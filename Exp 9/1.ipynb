{
 "cells": [
  {
   "cell_type": "code",
   "execution_count": 1,
   "id": "fbdb3fdc",
   "metadata": {},
   "outputs": [
    {
     "name": "stdout",
     "output_type": "stream",
     "text": [
      "Pandas Version: 2.3.1\n"
     ]
    }
   ],
   "source": [
    "import pandas as pd\n",
    "import numpy as np\n",
    "\n",
    "print(\"Pandas Version:\", pd.__version__)"
   ]
  },
  {
   "cell_type": "code",
   "execution_count": 2,
   "id": "218c39dc",
   "metadata": {},
   "outputs": [
    {
     "name": "stdout",
     "output_type": "stream",
     "text": [
      "Series:\n",
      " 0    1\n",
      "1    2\n",
      "2    3\n",
      "3    4\n",
      "4    5\n",
      "dtype: int64\n"
     ]
    }
   ],
   "source": [
    "# Creating a Series\n",
    "data = [1, 2, 3, 4, 5]\n",
    "series = pd.Series(data)\n",
    "print(\"Series:\\n\", series)"
   ]
  },
  {
   "cell_type": "code",
   "execution_count": 3,
   "id": "71820cea",
   "metadata": {},
   "outputs": [
    {
     "name": "stdout",
     "output_type": "stream",
     "text": [
      "\n",
      "Series after adding 10:\n",
      " 0    11\n",
      "1    12\n",
      "2    13\n",
      "3    14\n",
      "4    15\n",
      "dtype: int64\n",
      "\n",
      "Filtered Series (values > 2):\n",
      " 2    3\n",
      "3    4\n",
      "4    5\n",
      "dtype: int64\n",
      "\n",
      "Mean Value of Series: 3.0\n"
     ]
    }
   ],
   "source": [
    "# Arithmetic Operations\n",
    "series2 = series + 10\n",
    "print(\"\\nSeries after adding 10:\\n\", series2)\n",
    "\n",
    "# Filtering\n",
    "filtered_series = series[series > 2]\n",
    "print(\"\\nFiltered Series (values > 2):\\n\", filtered_series)\n",
    "\n",
    "# Statistical Calculations\n",
    "mean_value = series.mean()\n",
    "print(\"\\nMean Value of Series:\", mean_value)"
   ]
  },
  {
   "cell_type": "code",
   "execution_count": 4,
   "id": "d3b191d0",
   "metadata": {},
   "outputs": [
    {
     "name": "stdout",
     "output_type": "stream",
     "text": [
      "\n",
      "DataFrame:\n",
      "       Name  Age         City\n",
      "0    Alice   25     New York\n",
      "1      Bob   30  Los Angeles\n",
      "2  Charlie   35      Chicago\n"
     ]
    }
   ],
   "source": [
    "# Creating a DataFrame\n",
    "data = {\n",
    "    'Name': ['Alice', 'Bob', 'Charlie'],\n",
    "    'Age': [25, 30, 35],\n",
    "    'City': ['New York', 'Los Angeles', 'Chicago']\n",
    "}\n",
    "df = pd.DataFrame(data)\n",
    "print(\"\\nDataFrame:\\n\", df)"
   ]
  },
  {
   "cell_type": "code",
   "execution_count": 5,
   "id": "6b77c3bd",
   "metadata": {},
   "outputs": [
    {
     "name": "stdout",
     "output_type": "stream",
     "text": [
      "\n",
      "Accessing Name column:\n",
      "       Name\n",
      "0    Alice\n",
      "1      Bob\n",
      "2  Charlie\n",
      "\n",
      "DataFrame with Salary:\n",
      "       Name  Age         City  Salary\n",
      "0    Alice   25     New York   70000\n",
      "1      Bob   30  Los Angeles   80000\n",
      "2  Charlie   35      Chicago   90000\n",
      "\n",
      "DataFrame after dropping City:\n",
      "       Name  Age  Salary\n",
      "0    Alice   25   70000\n",
      "1      Bob   30   80000\n",
      "2  Charlie   35   90000\n",
      "\n",
      "Row 0:\n",
      "     Name  Age  Salary\n",
      "0  Alice   25   70000\n",
      "\n",
      "Row 0 and 1:\n",
      "     Name  Age  Salary\n",
      "0  Alice   25   70000\n",
      "1    Bob   30   80000\n"
     ]
    }
   ],
   "source": [
    "# Accessing Columns\n",
    "print(\"\\nAccessing Name column:\\n\", df[['Name']])\n",
    "\n",
    "# Adding a New Column\n",
    "df['Salary'] = [70000, 80000, 90000]\n",
    "print(\"\\nDataFrame with Salary:\\n\", df)\n",
    "\n",
    "# Dropping a Column\n",
    "df = df.drop('City', axis=1)\n",
    "print(\"\\nDataFrame after dropping City:\\n\", df)\n",
    "\n",
    "# Return row 0\n",
    "print(\"\\nRow 0:\\n\", df.loc[[0]])\n",
    "\n",
    "# Return row 0 and 1\n",
    "print(\"\\nRow 0 and 1:\\n\", df.loc[[0, 1]])"
   ]
  },
  {
   "cell_type": "code",
   "execution_count": 6,
   "id": "03b69f6e",
   "metadata": {},
   "outputs": [
    {
     "name": "stdout",
     "output_type": "stream",
     "text": [
      "\n",
      "DataFrame with Named Index:\n",
      "       calories  duration\n",
      "day1       420        50\n",
      "day2       380        40\n",
      "day3       390        45\n"
     ]
    }
   ],
   "source": [
    "data = {\n",
    "  \"calories\": [420, 380, 390],\n",
    "  \"duration\": [50, 40, 45]\n",
    "}\n",
    "df2 = pd.DataFrame(data, index = [\"day1\", \"day2\", \"day3\"])\n",
    "print(\"\\nDataFrame with Named Index:\\n\", df2)"
   ]
  },
  {
   "cell_type": "code",
   "execution_count": 7,
   "id": "39d1c888",
   "metadata": {},
   "outputs": [
    {
     "name": "stdout",
     "output_type": "stream",
     "text": [
      "\n",
      "DataFrame saved to Biodata.csv\n",
      "\n",
      "Read CSV File:\n",
      "     Name  Age Gender\n",
      "0   John   28      M\n",
      "1  Emily   23      F\n",
      "2   Mike   35      M\n",
      "3   Lisa   31      F\n"
     ]
    }
   ],
   "source": [
    "# Example DataFrame\n",
    "Biodata = {\n",
    "    'Name': ['John', 'Emily', 'Mike', 'Lisa'],\n",
    "    'Age': [28, 23, 35, 31],\n",
    "    'Gender': ['M', 'F', 'M', 'F']\n",
    "}\n",
    "df3 = pd.DataFrame(Biodata)\n",
    "\n",
    "# Save to CSV\n",
    "df3.to_csv('Biodata.csv', index=False)\n",
    "print(\"\\nDataFrame saved to Biodata.csv\")\n",
    "\n",
    "# Read CSV back\n",
    "dat = pd.read_csv(\"Biodata.csv\")\n",
    "print(\"\\nRead CSV File:\\n\", dat)"
   ]
  },
  {
   "cell_type": "code",
   "execution_count": 8,
   "id": "954c8766",
   "metadata": {},
   "outputs": [
    {
     "name": "stdout",
     "output_type": "stream",
     "text": [
      "\n",
      "Data Info:\n",
      "<class 'pandas.core.frame.DataFrame'>\n",
      "RangeIndex: 4 entries, 0 to 3\n",
      "Data columns (total 3 columns):\n",
      " #   Column  Non-Null Count  Dtype \n",
      "---  ------  --------------  ----- \n",
      " 0   Name    4 non-null      object\n",
      " 1   Age     4 non-null      int64 \n",
      " 2   Gender  4 non-null      object\n",
      "dtypes: int64(1), object(2)\n",
      "memory usage: 228.0+ bytes\n",
      "None\n",
      "\n",
      "Head:\n",
      "     Name  Age Gender\n",
      "0   John   28      M\n",
      "1  Emily   23      F\n",
      "2   Mike   35      M\n",
      "3   Lisa   31      F\n",
      "\n",
      "Tail:\n",
      "     Name  Age Gender\n",
      "0   John   28      M\n",
      "1  Emily   23      F\n",
      "2   Mike   35      M\n",
      "3   Lisa   31      F\n",
      "\n",
      "Describe:\n",
      "              Age\n",
      "count   4.000000\n",
      "mean   29.250000\n",
      "std     5.057997\n",
      "min    23.000000\n",
      "25%    26.750000\n",
      "50%    29.500000\n",
      "75%    32.000000\n",
      "max    35.000000\n"
     ]
    }
   ],
   "source": [
    "print(\"\\nData Info:\")\n",
    "print(dat.info())\n",
    "\n",
    "print(\"\\nHead:\\n\", dat.head())\n",
    "print(\"\\nTail:\\n\", dat.tail())\n",
    "print(\"\\nDescribe:\\n\", dat.describe())"
   ]
  },
  {
   "cell_type": "code",
   "execution_count": 9,
   "id": "8d50b48d",
   "metadata": {},
   "outputs": [
    {
     "name": "stdout",
     "output_type": "stream",
     "text": [
      "\n",
      "Select Name column:\n",
      "     Name\n",
      "0   John\n",
      "1  Emily\n",
      "2   Mike\n",
      "3   Lisa\n",
      "\n",
      "Select Name and Gender columns:\n",
      "     Name Gender\n",
      "0   John      M\n",
      "1  Emily      F\n",
      "2   Mike      M\n",
      "3   Lisa      F\n",
      "\n",
      "Select row with index 1:\n",
      "     Name  Age Gender\n",
      "1  Emily   23      F\n"
     ]
    }
   ],
   "source": [
    "print(\"\\nSelect Name column:\\n\", dat[['Name']])\n",
    "print(\"\\nSelect Name and Gender columns:\\n\", dat[['Name','Gender']])\n",
    "print(\"\\nSelect row with index 1:\\n\", dat.loc[[1]])"
   ]
  },
  {
   "cell_type": "code",
   "execution_count": 10,
   "id": "053ac53d",
   "metadata": {},
   "outputs": [
    {
     "name": "stdout",
     "output_type": "stream",
     "text": [
      "\n",
      "Modified Age column:\n",
      "     Name  Age Gender\n",
      "0   John   56      M\n",
      "1  Emily   46      F\n",
      "2   Mike   70      M\n",
      "3   Lisa   62      F\n",
      "\n",
      "DataFrame with NewCol:\n",
      "     Name  Age Gender  NewCol\n",
      "0   John   56      M      61\n",
      "1  Emily   46      F      51\n",
      "2   Mike   70      M      75\n",
      "3   Lisa   62      F      67\n",
      "\n",
      "After dropping NewCol:\n",
      "     Name  Age Gender\n",
      "0   John   56      M\n",
      "1  Emily   46      F\n",
      "2   Mike   70      M\n",
      "3   Lisa   62      F\n",
      "\n",
      "After dropping row 0:\n",
      "     Name  Age Gender\n",
      "1  Emily   46      F\n",
      "2   Mike   70      M\n",
      "3   Lisa   62      F\n"
     ]
    }
   ],
   "source": [
    "dat['Age'] = dat['Age'] * 2  # Modify a column\n",
    "print(\"\\nModified Age column:\\n\", dat)\n",
    "\n",
    "dat['NewCol'] = dat['Age'] + 5  # Create new column\n",
    "print(\"\\nDataFrame with NewCol:\\n\", dat)\n",
    "\n",
    "dat = dat.drop(columns=['NewCol'])  # Drop a column\n",
    "print(\"\\nAfter dropping NewCol:\\n\", dat)\n",
    "\n",
    "dat = dat.drop(index=[0])  # Drop a row\n",
    "print(\"\\nAfter dropping row 0:\\n\", dat)"
   ]
  },
  {
   "cell_type": "code",
   "execution_count": 11,
   "id": "5c565267",
   "metadata": {},
   "outputs": [
    {
     "name": "stdout",
     "output_type": "stream",
     "text": [
      "\n",
      "Task DataFrame:\n",
      "       A          B          C     D           E\n",
      "0   NaN  57.367060  40.574349   1.0   10.000000\n",
      "1   2.0  49.280104  44.734003   2.0   12.915497\n",
      "2   3.0  68.601940  65.612411   3.0   16.681005\n",
      "3   4.0  47.289669  27.095635   4.0   21.544347\n",
      "4   5.0  30.676522  12.000101   5.0   27.825594\n",
      "5   6.0  65.149321  94.912368   6.0   35.938137\n",
      "6   7.0  46.614768  34.772780   7.0   46.415888\n",
      "7   8.0  40.653001  88.727640   8.0   59.948425\n",
      "8   9.0  56.177386  56.758594   9.0   77.426368\n",
      "9  10.0  22.336022  12.244709  10.0  100.000000\n"
     ]
    }
   ],
   "source": [
    "data = {\n",
    "    'A': [np.nan, 2, 3, 4, 5, 6, 7, 8, 9, 10],\n",
    "    'B': np.random.normal(50, 15, 10),\n",
    "    'C': np.random.rand(10) * 100,\n",
    "    'D': np.linspace(1, 10, 10),\n",
    "    'E': np.logspace(1, 2, 10)\n",
    "}\n",
    "df_task = pd.DataFrame(data)\n",
    "print(\"\\nTask DataFrame:\\n\", df_task)"
   ]
  },
  {
   "cell_type": "code",
   "execution_count": 14,
   "id": "6f7210d1",
   "metadata": {},
   "outputs": [
    {
     "name": "stdout",
     "output_type": "stream",
     "text": [
      "<class 'pandas.core.frame.DataFrame'>\n",
      "RangeIndex: 13 entries, 0 to 12\n",
      "Data columns (total 3 columns):\n",
      " #   Column  Non-Null Count  Dtype \n",
      "---  ------  --------------  ----- \n",
      " 0   Name    13 non-null     object\n",
      " 1   City    13 non-null     object\n",
      " 2   Number  13 non-null     int64 \n",
      "dtypes: int64(1), object(2)\n",
      "memory usage: 444.0+ bytes\n",
      "None\n",
      "  Name City  Number\n",
      "0    A    M       1\n",
      "1    B    N       4\n",
      "2    C    V       5\n",
      "3    D    B       7\n",
      "4    E    J       8\n",
      "   Name City  Number\n",
      "8     I    C       6\n",
      "9     J    X       7\n",
      "10    K    Z       3\n",
      "11    L    S       4\n",
      "12    M    R       6\n",
      "          Number\n",
      "count  13.000000\n",
      "mean    5.538462\n",
      "std     2.183857\n",
      "min     1.000000\n",
      "25%     4.000000\n",
      "50%     6.000000\n",
      "75%     7.000000\n",
      "max     9.000000\n"
     ]
    }
   ],
   "source": [
    "dat = pd.read_csv(\"data.csv\")\n",
    "print(dat.info())\n",
    "# shows first and last five rows\n",
    "print(dat.head())\n",
    "print(dat.tail())\n",
    "print(dat.describe())"
   ]
  },
  {
   "cell_type": "code",
   "execution_count": 15,
   "id": "858cadca",
   "metadata": {},
   "outputs": [
    {
     "name": "stdout",
     "output_type": "stream",
     "text": [
      "   Name\n",
      "0     A\n",
      "1     B\n",
      "2     C\n",
      "3     D\n",
      "4     E\n",
      "5     F\n",
      "6     G\n",
      "7     H\n",
      "8     I\n",
      "9     J\n",
      "10    K\n",
      "11    L\n",
      "12    M\n",
      "   Name  Number\n",
      "0     A       1\n",
      "1     B       4\n",
      "2     C       5\n",
      "3     D       7\n",
      "4     E       8\n",
      "5     F       9\n",
      "6     G       7\n",
      "7     H       5\n",
      "8     I       6\n",
      "9     J       7\n",
      "10    K       3\n",
      "11    L       4\n",
      "12    M       6\n",
      "  Name City  Number\n",
      "1    B    N       4\n"
     ]
    }
   ],
   "source": [
    "print(dat[['Name']])\n",
    "print(dat[['Name','Number']])\n",
    "print(dat.loc[[1]])"
   ]
  },
  {
   "cell_type": "code",
   "execution_count": 16,
   "id": "bc03b891",
   "metadata": {},
   "outputs": [
    {
     "name": "stdout",
     "output_type": "stream",
     "text": [
      "\n",
      "Accessing Name column:\n",
      "       Name\n",
      "0    Alice\n",
      "1      Bob\n",
      "2  Charlie\n"
     ]
    }
   ],
   "source": [
    "# Accessing Columns\n",
    "print(\"\\nAccessing Name column:\\n\", df[['Name']])"
   ]
  },
  {
   "cell_type": "code",
   "execution_count": 17,
   "id": "8a27877b",
   "metadata": {},
   "outputs": [
    {
     "name": "stdout",
     "output_type": "stream",
     "text": [
      "\n",
      "DataFrame with Salary:\n",
      "       Name  Age  Salary\n",
      "0    Alice   25   70000\n",
      "1      Bob   30   80000\n",
      "2  Charlie   35   90000\n"
     ]
    }
   ],
   "source": [
    "# Adding a New Column\n",
    "df['Salary'] = [70000, 80000, 90000]\n",
    "print(\"\\nDataFrame with Salary:\\n\", df)"
   ]
  },
  {
   "cell_type": "code",
   "execution_count": 18,
   "id": "30a9de5a",
   "metadata": {},
   "outputs": [
    {
     "ename": "KeyError",
     "evalue": "\"['City'] not found in axis\"",
     "output_type": "error",
     "traceback": [
      "\u001b[31m---------------------------------------------------------------------------\u001b[39m",
      "\u001b[31mKeyError\u001b[39m                                  Traceback (most recent call last)",
      "\u001b[36mCell\u001b[39m\u001b[36m \u001b[39m\u001b[32mIn[18]\u001b[39m\u001b[32m, line 2\u001b[39m\n\u001b[32m      1\u001b[39m \u001b[38;5;66;03m# Dropping a Column\u001b[39;00m\n\u001b[32m----> \u001b[39m\u001b[32m2\u001b[39m df = \u001b[43mdf\u001b[49m\u001b[43m.\u001b[49m\u001b[43mdrop\u001b[49m\u001b[43m(\u001b[49m\u001b[33;43m'\u001b[39;49m\u001b[33;43mCity\u001b[39;49m\u001b[33;43m'\u001b[39;49m\u001b[43m,\u001b[49m\u001b[43m \u001b[49m\u001b[43maxis\u001b[49m\u001b[43m=\u001b[49m\u001b[32;43m1\u001b[39;49m\u001b[43m)\u001b[49m\n\u001b[32m      3\u001b[39m \u001b[38;5;28mprint\u001b[39m(\u001b[33m\"\u001b[39m\u001b[38;5;130;01m\\n\u001b[39;00m\u001b[33mDataFrame after dropping City:\u001b[39m\u001b[38;5;130;01m\\n\u001b[39;00m\u001b[33m\"\u001b[39m, df)\n",
      "\u001b[36mFile \u001b[39m\u001b[32md:\\Degree Sem 3\\PWP\\Lab Task\\python\\.venv\\Lib\\site-packages\\pandas\\core\\frame.py:5588\u001b[39m, in \u001b[36mDataFrame.drop\u001b[39m\u001b[34m(self, labels, axis, index, columns, level, inplace, errors)\u001b[39m\n\u001b[32m   5440\u001b[39m \u001b[38;5;28;01mdef\u001b[39;00m\u001b[38;5;250m \u001b[39m\u001b[34mdrop\u001b[39m(\n\u001b[32m   5441\u001b[39m     \u001b[38;5;28mself\u001b[39m,\n\u001b[32m   5442\u001b[39m     labels: IndexLabel | \u001b[38;5;28;01mNone\u001b[39;00m = \u001b[38;5;28;01mNone\u001b[39;00m,\n\u001b[32m   (...)\u001b[39m\u001b[32m   5449\u001b[39m     errors: IgnoreRaise = \u001b[33m\"\u001b[39m\u001b[33mraise\u001b[39m\u001b[33m\"\u001b[39m,\n\u001b[32m   5450\u001b[39m ) -> DataFrame | \u001b[38;5;28;01mNone\u001b[39;00m:\n\u001b[32m   5451\u001b[39m \u001b[38;5;250m    \u001b[39m\u001b[33;03m\"\"\"\u001b[39;00m\n\u001b[32m   5452\u001b[39m \u001b[33;03m    Drop specified labels from rows or columns.\u001b[39;00m\n\u001b[32m   5453\u001b[39m \n\u001b[32m   (...)\u001b[39m\u001b[32m   5586\u001b[39m \u001b[33;03m            weight  1.0     0.8\u001b[39;00m\n\u001b[32m   5587\u001b[39m \u001b[33;03m    \"\"\"\u001b[39;00m\n\u001b[32m-> \u001b[39m\u001b[32m5588\u001b[39m     \u001b[38;5;28;01mreturn\u001b[39;00m \u001b[38;5;28;43msuper\u001b[39;49m\u001b[43m(\u001b[49m\u001b[43m)\u001b[49m\u001b[43m.\u001b[49m\u001b[43mdrop\u001b[49m\u001b[43m(\u001b[49m\n\u001b[32m   5589\u001b[39m \u001b[43m        \u001b[49m\u001b[43mlabels\u001b[49m\u001b[43m=\u001b[49m\u001b[43mlabels\u001b[49m\u001b[43m,\u001b[49m\n\u001b[32m   5590\u001b[39m \u001b[43m        \u001b[49m\u001b[43maxis\u001b[49m\u001b[43m=\u001b[49m\u001b[43maxis\u001b[49m\u001b[43m,\u001b[49m\n\u001b[32m   5591\u001b[39m \u001b[43m        \u001b[49m\u001b[43mindex\u001b[49m\u001b[43m=\u001b[49m\u001b[43mindex\u001b[49m\u001b[43m,\u001b[49m\n\u001b[32m   5592\u001b[39m \u001b[43m        \u001b[49m\u001b[43mcolumns\u001b[49m\u001b[43m=\u001b[49m\u001b[43mcolumns\u001b[49m\u001b[43m,\u001b[49m\n\u001b[32m   5593\u001b[39m \u001b[43m        \u001b[49m\u001b[43mlevel\u001b[49m\u001b[43m=\u001b[49m\u001b[43mlevel\u001b[49m\u001b[43m,\u001b[49m\n\u001b[32m   5594\u001b[39m \u001b[43m        \u001b[49m\u001b[43minplace\u001b[49m\u001b[43m=\u001b[49m\u001b[43minplace\u001b[49m\u001b[43m,\u001b[49m\n\u001b[32m   5595\u001b[39m \u001b[43m        \u001b[49m\u001b[43merrors\u001b[49m\u001b[43m=\u001b[49m\u001b[43merrors\u001b[49m\u001b[43m,\u001b[49m\n\u001b[32m   5596\u001b[39m \u001b[43m    \u001b[49m\u001b[43m)\u001b[49m\n",
      "\u001b[36mFile \u001b[39m\u001b[32md:\\Degree Sem 3\\PWP\\Lab Task\\python\\.venv\\Lib\\site-packages\\pandas\\core\\generic.py:4807\u001b[39m, in \u001b[36mNDFrame.drop\u001b[39m\u001b[34m(self, labels, axis, index, columns, level, inplace, errors)\u001b[39m\n\u001b[32m   4805\u001b[39m \u001b[38;5;28;01mfor\u001b[39;00m axis, labels \u001b[38;5;129;01min\u001b[39;00m axes.items():\n\u001b[32m   4806\u001b[39m     \u001b[38;5;28;01mif\u001b[39;00m labels \u001b[38;5;129;01mis\u001b[39;00m \u001b[38;5;129;01mnot\u001b[39;00m \u001b[38;5;28;01mNone\u001b[39;00m:\n\u001b[32m-> \u001b[39m\u001b[32m4807\u001b[39m         obj = \u001b[43mobj\u001b[49m\u001b[43m.\u001b[49m\u001b[43m_drop_axis\u001b[49m\u001b[43m(\u001b[49m\u001b[43mlabels\u001b[49m\u001b[43m,\u001b[49m\u001b[43m \u001b[49m\u001b[43maxis\u001b[49m\u001b[43m,\u001b[49m\u001b[43m \u001b[49m\u001b[43mlevel\u001b[49m\u001b[43m=\u001b[49m\u001b[43mlevel\u001b[49m\u001b[43m,\u001b[49m\u001b[43m \u001b[49m\u001b[43merrors\u001b[49m\u001b[43m=\u001b[49m\u001b[43merrors\u001b[49m\u001b[43m)\u001b[49m\n\u001b[32m   4809\u001b[39m \u001b[38;5;28;01mif\u001b[39;00m inplace:\n\u001b[32m   4810\u001b[39m     \u001b[38;5;28mself\u001b[39m._update_inplace(obj)\n",
      "\u001b[36mFile \u001b[39m\u001b[32md:\\Degree Sem 3\\PWP\\Lab Task\\python\\.venv\\Lib\\site-packages\\pandas\\core\\generic.py:4849\u001b[39m, in \u001b[36mNDFrame._drop_axis\u001b[39m\u001b[34m(self, labels, axis, level, errors, only_slice)\u001b[39m\n\u001b[32m   4847\u001b[39m         new_axis = axis.drop(labels, level=level, errors=errors)\n\u001b[32m   4848\u001b[39m     \u001b[38;5;28;01melse\u001b[39;00m:\n\u001b[32m-> \u001b[39m\u001b[32m4849\u001b[39m         new_axis = \u001b[43maxis\u001b[49m\u001b[43m.\u001b[49m\u001b[43mdrop\u001b[49m\u001b[43m(\u001b[49m\u001b[43mlabels\u001b[49m\u001b[43m,\u001b[49m\u001b[43m \u001b[49m\u001b[43merrors\u001b[49m\u001b[43m=\u001b[49m\u001b[43merrors\u001b[49m\u001b[43m)\u001b[49m\n\u001b[32m   4850\u001b[39m     indexer = axis.get_indexer(new_axis)\n\u001b[32m   4852\u001b[39m \u001b[38;5;66;03m# Case for non-unique axis\u001b[39;00m\n\u001b[32m   4853\u001b[39m \u001b[38;5;28;01melse\u001b[39;00m:\n",
      "\u001b[36mFile \u001b[39m\u001b[32md:\\Degree Sem 3\\PWP\\Lab Task\\python\\.venv\\Lib\\site-packages\\pandas\\core\\indexes\\base.py:7136\u001b[39m, in \u001b[36mIndex.drop\u001b[39m\u001b[34m(self, labels, errors)\u001b[39m\n\u001b[32m   7134\u001b[39m \u001b[38;5;28;01mif\u001b[39;00m mask.any():\n\u001b[32m   7135\u001b[39m     \u001b[38;5;28;01mif\u001b[39;00m errors != \u001b[33m\"\u001b[39m\u001b[33mignore\u001b[39m\u001b[33m\"\u001b[39m:\n\u001b[32m-> \u001b[39m\u001b[32m7136\u001b[39m         \u001b[38;5;28;01mraise\u001b[39;00m \u001b[38;5;167;01mKeyError\u001b[39;00m(\u001b[33mf\u001b[39m\u001b[33m\"\u001b[39m\u001b[38;5;132;01m{\u001b[39;00mlabels[mask].tolist()\u001b[38;5;132;01m}\u001b[39;00m\u001b[33m not found in axis\u001b[39m\u001b[33m\"\u001b[39m)\n\u001b[32m   7137\u001b[39m     indexer = indexer[~mask]\n\u001b[32m   7138\u001b[39m \u001b[38;5;28;01mreturn\u001b[39;00m \u001b[38;5;28mself\u001b[39m.delete(indexer)\n",
      "\u001b[31mKeyError\u001b[39m: \"['City'] not found in axis\""
     ]
    }
   ],
   "source": [
    "# Dropping a Column\n",
    "df = df.drop('City', axis=1)\n",
    "print(\"\\nDataFrame after dropping City:\\n\", df)"
   ]
  },
  {
   "cell_type": "code",
   "execution_count": null,
   "id": "bcc528a3",
   "metadata": {},
   "outputs": [],
   "source": [
    "# Return row 0\n",
    "print(\"\\nRow 0:\\n\", df.loc[[0]])"
   ]
  },
  {
   "cell_type": "code",
   "execution_count": null,
   "id": "4d453a60",
   "metadata": {},
   "outputs": [],
   "source": [
    "# Return row 0 and 1\n",
    "print(\"\\nRow 0 and 1:\\n\", df.loc[[0, 1]])"
   ]
  },
  {
   "cell_type": "code",
   "execution_count": 13,
   "id": "252eab1b",
   "metadata": {},
   "outputs": [
    {
     "name": "stdout",
     "output_type": "stream",
     "text": [
      "   Name City  Number\n",
      "0     A    M       1\n",
      "1     B    N       4\n",
      "2     C    V       5\n",
      "3     D    B       7\n",
      "4     E    J       8\n",
      "5     F    G       9\n",
      "6     G    F       7\n",
      "7     H    D       5\n",
      "8     I    C       6\n",
      "9     J    X       7\n",
      "10    K    Z       3\n",
      "11    L    S       4\n",
      "12    M    R       6\n"
     ]
    }
   ],
   "source": [
    "dat = pd.read_csv(\"data.csv\")\n",
    "print(dat)"
   ]
  }
 ],
 "metadata": {
  "kernelspec": {
   "display_name": ".venv",
   "language": "python",
   "name": "python3"
  },
  "language_info": {
   "codemirror_mode": {
    "name": "ipython",
    "version": 3
   },
   "file_extension": ".py",
   "mimetype": "text/x-python",
   "name": "python",
   "nbconvert_exporter": "python",
   "pygments_lexer": "ipython3",
   "version": "3.12.4"
  }
 },
 "nbformat": 4,
 "nbformat_minor": 5
}

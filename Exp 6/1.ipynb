{
 "cells": [
  {
   "cell_type": "code",
   "execution_count": 26,
   "id": "9d7771bc",
   "metadata": {},
   "outputs": [
    {
     "name": "stdout",
     "output_type": "stream",
     "text": [
      "Reversed number: 22584\n"
     ]
    }
   ],
   "source": [
    "# g. Reverse a number\n",
    "num = int(input(\"Enter a number: \"))\n",
    "reverse_num = 0\n",
    "\n",
    "while num > 0:\n",
    "    digit = num % 10\n",
    "    reverse_num = reverse_num * 10 + digit\n",
    "    num //= 10\n",
    "\n",
    "print(\"Reversed number:\", reverse_num)\n"
   ]
  },
  {
   "cell_type": "code",
   "execution_count": 25,
   "id": "a9a44767",
   "metadata": {},
   "outputs": [
    {
     "name": "stdout",
     "output_type": "stream",
     "text": [
      "Product of digits: 320\n"
     ]
    }
   ],
   "source": [
    "# f. Product of digits of a number\n",
    "num = int(input(\"Enter a number: \"))\n",
    "product = 1\n",
    "\n",
    "while num > 0:\n",
    "    digit = num % 10\n",
    "    product *= digit\n",
    "    num //= 10\n",
    "\n",
    "print(\"Product of digits:\", product)\n"
   ]
  },
  {
   "cell_type": "code",
   "execution_count": 24,
   "id": "8efe1dd6",
   "metadata": {},
   "outputs": [
    {
     "name": "stdout",
     "output_type": "stream",
     "text": [
      "Number after swapping first and last digits: 6857\n"
     ]
    }
   ],
   "source": [
    "# e. Swap first and last digits\n",
    "num = input(\"Enter a number: \")\n",
    "\n",
    "if len(num) == 1:\n",
    "    swapped = num\n",
    "else:\n",
    "    swapped = num[-1] + num[1:-1] + num[0]\n",
    "\n",
    "print(\"Number after swapping first and last digits:\", swapped)\n"
   ]
  },
  {
   "cell_type": "code",
   "execution_count": 23,
   "id": "17121e2b",
   "metadata": {},
   "outputs": [
    {
     "name": "stdout",
     "output_type": "stream",
     "text": [
      "First digit: 7\n",
      "Last digit: 5\n"
     ]
    }
   ],
   "source": [
    "# d. Find first and last digit of a number\n",
    "num = int(input(\"Enter a number: \"))\n",
    "last_digit = num % 10\n",
    "\n",
    "first_digit = num\n",
    "while first_digit >= 10:\n",
    "    first_digit //= 10\n",
    "\n",
    "print(\"First digit:\", first_digit)\n",
    "print(\"Last digit:\", last_digit)\n"
   ]
  },
  {
   "cell_type": "code",
   "execution_count": 22,
   "id": "ebfed802",
   "metadata": {},
   "outputs": [
    {
     "name": "stdout",
     "output_type": "stream",
     "text": [
      "Number of digits: 3\n"
     ]
    }
   ],
   "source": [
    "# c. Function to count digits in a number\n",
    "def count_digits(num):\n",
    "    count = 0\n",
    "    while num != 0:\n",
    "        num //= 10\n",
    "        count += 1\n",
    "    return count\n",
    "\n",
    "number = int(input(\"Enter a number: \"))\n",
    "print(\"Number of digits:\", count_digits(number))\n"
   ]
  },
  {
   "cell_type": "code",
   "execution_count": 20,
   "id": "2eadf7e6",
   "metadata": {},
   "outputs": [
    {
     "name": "stdout",
     "output_type": "stream",
     "text": [
      "Sum of natural numbers from 1 to 45 is 1035\n"
     ]
    }
   ],
   "source": [
    "# b. Sum of all natural numbers from 1 to n\n",
    "n = int(input(\"Enter n: \"))\n",
    "total = 0\n",
    "for i in range(1, n + 1):\n",
    "    total += i\n",
    "print(\"Sum of natural numbers from 1 to\", n, \"is\", total)"
   ]
  },
  {
   "cell_type": "code",
   "execution_count": null,
   "id": "8b94bb1f",
   "metadata": {},
   "outputs": [],
   "source": [
    "    "
   ]
  },
  {
   "cell_type": "code",
   "execution_count": 19,
   "id": "ce2c2643",
   "metadata": {},
   "outputs": [
    {
     "name": "stdout",
     "output_type": "stream",
     "text": [
      "1 3 5 7 9 11 13 15 17 19 21 23 25 27 29 31 33 35 37 39 41 43 45 47 49 51 53 55 57 59 61 63 65 67 69 71 73 75 77 79 81 83 85 87 89 91 93 95 97 99 "
     ]
    }
   ],
   "source": [
    "# a. Print odd numbers between 1 and 100\n",
    "num = 1\n",
    "while num <= 100:\n",
    "    if num % 2 != 0:\n",
    "        print(num, end=\" \")\n",
    "    num += 1\n"
   ]
  },
  {
   "cell_type": "code",
   "execution_count": 18,
   "id": "b30eeebf",
   "metadata": {},
   "outputs": [
    {
     "name": "stdout",
     "output_type": "stream",
     "text": [
      "1\n",
      "2\n",
      "3\n",
      "4\n",
      "5\n"
     ]
    }
   ],
   "source": [
    "def generate_numbers():\n",
    "    for i in range(1, 6):\n",
    "        yield i\n",
    "for number in generate_numbers():\n",
    "        print(number)"
   ]
  },
  {
   "cell_type": "code",
   "execution_count": 17,
   "id": "c9a3addb",
   "metadata": {},
   "outputs": [
    {
     "name": "stdout",
     "output_type": "stream",
     "text": [
      "[1, 4, 9, 16, 25]\n"
     ]
    }
   ],
   "source": [
    "def square(x):\n",
    "    return x * x\n",
    "numbers = [1, 2, 3, 4, 5]\n",
    "squared_numbers = list(map(square, numbers))\n",
    "print(squared_numbers)"
   ]
  },
  {
   "cell_type": "code",
   "execution_count": 16,
   "id": "309fc920",
   "metadata": {},
   "outputs": [
    {
     "name": "stdout",
     "output_type": "stream",
     "text": [
      "120\n"
     ]
    }
   ],
   "source": [
    "def factorial(n):\n",
    "\n",
    "    if n == 1:\n",
    "        return 1\n",
    "    else:\n",
    "        return n * factorial(n - 1)\n",
    "print(factorial(5)) "
   ]
  },
  {
   "cell_type": "code",
   "execution_count": 15,
   "id": "bff699d9",
   "metadata": {},
   "outputs": [
    {
     "name": "stdout",
     "output_type": "stream",
     "text": [
      "8\n"
     ]
    }
   ],
   "source": [
    "add = lambda x, y: x + y\n",
    "print(add(3, 5))  "
   ]
  },
  {
   "cell_type": "code",
   "execution_count": 14,
   "id": "96af185c",
   "metadata": {},
   "outputs": [
    {
     "name": "stdout",
     "output_type": "stream",
     "text": [
      "8\n"
     ]
    }
   ],
   "source": [
    "def add_numbers(a, b):\n",
    "    return a + b\n",
    "result = add_numbers(3, 5)\n",
    "print(result)"
   ]
  },
  {
   "cell_type": "code",
   "execution_count": 13,
   "id": "c08201a4",
   "metadata": {},
   "outputs": [
    {
     "name": "stdout",
     "output_type": "stream",
     "text": [
      "5\n"
     ]
    }
   ],
   "source": [
    "my_list = [1, 2, 3, 4, 5]\n",
    "print(len(my_list))"
   ]
  },
  {
   "cell_type": "code",
   "execution_count": 12,
   "id": "84572dcb",
   "metadata": {},
   "outputs": [
    {
     "name": "stdout",
     "output_type": "stream",
     "text": [
      "1\n",
      "2\n",
      "3\n",
      "4\n",
      "5\n"
     ]
    }
   ],
   "source": [
    "for x in range(1,6):\n",
    "    if x == 3:\n",
    "        pass\n",
    "    print(x)"
   ]
  },
  {
   "cell_type": "code",
   "execution_count": 11,
   "id": "50d784ca",
   "metadata": {},
   "outputs": [
    {
     "name": "stdout",
     "output_type": "stream",
     "text": [
      "5\n"
     ]
    }
   ],
   "source": [
    "for x in range(1,6):\n",
    "\tif x==3:\n",
    "\t    continue \n",
    "print(x)"
   ]
  },
  {
   "cell_type": "code",
   "execution_count": 10,
   "id": "c55244ad",
   "metadata": {},
   "outputs": [
    {
     "name": "stdout",
     "output_type": "stream",
     "text": [
      "3\n"
     ]
    }
   ],
   "source": [
    "for x in range(1,6):\n",
    "\tif x==3:\n",
    "\t    break\n",
    "print(x)"
   ]
  },
  {
   "cell_type": "code",
   "execution_count": 9,
   "id": "4eec45a5",
   "metadata": {},
   "outputs": [
    {
     "name": "stdout",
     "output_type": "stream",
     "text": [
      "1\n",
      "2\n",
      "3\n",
      "4\n",
      "5\n"
     ]
    }
   ],
   "source": [
    "x = 1\n",
    "while x<=5:\n",
    "     print(x)\n",
    "     x+=1"
   ]
  },
  {
   "cell_type": "code",
   "execution_count": 8,
   "id": "dfa89e48",
   "metadata": {},
   "outputs": [
    {
     "name": "stdout",
     "output_type": "stream",
     "text": [
      "apple\n",
      "banana\n",
      "cherry\n"
     ]
    }
   ],
   "source": [
    "Fruits = [\"apple\", \"banana\", \"cherry\"]\n",
    "for fruit in Fruits:\n",
    "      print(fruit)"
   ]
  },
  {
   "cell_type": "code",
   "execution_count": 6,
   "id": "94fe3048",
   "metadata": {},
   "outputs": [
    {
     "name": "stdout",
     "output_type": "stream",
     "text": [
      "The number is positive and even.\n"
     ]
    }
   ],
   "source": [
    "num = 10\n",
    "\n",
    "if num > 0:\n",
    "    if num % 2 == 0:\n",
    "        print(\"The number is positive and even.\")\n",
    "    else:\n",
    "        print(\"The number is positive but odd.\")\n",
    "else:\n",
    "    print(\"The number is not positive.\")"
   ]
  },
  {
   "cell_type": "code",
   "execution_count": null,
   "id": "4572147a",
   "metadata": {},
   "outputs": [],
   "source": [
    "num = 10\n",
    "\n",
    "if num > 0:\n",
    "    if num % 2 == 0:\n",
    "        print(\"The number is positive and even.\")\n",
    "    else:\n",
    "        print(\"The number is positive but odd.\")\n",
    "else:\n",
    "    print(\"The number is not positive.\")"
   ]
  },
  {
   "cell_type": "code",
   "execution_count": 5,
   "id": "9fd2e8ae",
   "metadata": {},
   "outputs": [
    {
     "name": "stdout",
     "output_type": "stream",
     "text": [
      "You are an adult.\n"
     ]
    }
   ],
   "source": [
    "age = 35\n",
    "\n",
    "if age >= 60:\n",
    "    print(\"You are a senior citizen.\")\n",
    "else:\n",
    "    if age >= 18:\n",
    "        print(\"You are an adult.\")\n",
    "    else:\n",
    "        print(\"You are a teenager.\")"
   ]
  },
  {
   "cell_type": "code",
   "execution_count": 4,
   "id": "34d27511",
   "metadata": {},
   "outputs": [
    {
     "name": "stdout",
     "output_type": "stream",
     "text": [
      "x is greater than 5\n"
     ]
    }
   ],
   "source": [
    "if x>5:\n",
    "   print(\"x is greater than 5\")\n",
    "else:\n",
    "   print(\"x is not greater than 5\")"
   ]
  },
  {
   "cell_type": "code",
   "execution_count": 3,
   "id": "c2510de5",
   "metadata": {},
   "outputs": [
    {
     "name": "stdout",
     "output_type": "stream",
     "text": [
      "x is greater than 5\n"
     ]
    }
   ],
   "source": [
    "\n",
    "x = 10\n",
    "if x > 5:\n",
    "    print(\"x is greater than 5\")\n",
    "elif x == 5:\n",
    "    print(\"x is equal to 5\")\n",
    "else:\n",
    "    print(\"x is less than 5\")"
   ]
  },
  {
   "cell_type": "code",
   "execution_count": 2,
   "id": "54ff8d62",
   "metadata": {},
   "outputs": [
    {
     "name": "stdout",
     "output_type": "stream",
     "text": [
      "x is greter than 5\n"
     ]
    }
   ],
   "source": [
    "\n",
    "x = 10\n",
    "if x>5:\n",
    "    print(\"x is greter than 5\")"
   ]
  },
  {
   "cell_type": "code",
   "execution_count": 1,
   "id": "96eecb95",
   "metadata": {},
   "outputs": [
    {
     "name": "stdout",
     "output_type": "stream",
     "text": [
      "1 3 5 7 9 11 13 15 17 19 21 23 25 27 29 31 33 35 37 39 41 43 45 47 49 51 53 55 57 59 61 63 65 67 69 71 73 75 77 79 81 83 85 87 89 91 93 95 97 99 "
     ]
    }
   ],
   "source": [
    "# Program to print all odd numbers between 1 to 100\n",
    "num = 1\n",
    "while num <= 100:\n",
    "    if num % 2 != 0:\n",
    "        print(num, end=\" \")\n",
    "    num += 1\n"
   ]
  }
 ],
 "metadata": {
  "kernelspec": {
   "display_name": ".venv",
   "language": "python",
   "name": "python3"
  },
  "language_info": {
   "codemirror_mode": {
    "name": "ipython",
    "version": 3
   },
   "file_extension": ".py",
   "mimetype": "text/x-python",
   "name": "python",
   "nbconvert_exporter": "python",
   "pygments_lexer": "ipython3",
   "version": "3.12.4"
  }
 },
 "nbformat": 4,
 "nbformat_minor": 5
}

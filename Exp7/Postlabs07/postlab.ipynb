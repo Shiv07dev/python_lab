{
 "cells": [
  {
   "cell_type": "code",
   "execution_count": 1,
   "id": "b4b5e689",
   "metadata": {},
   "outputs": [],
   "source": [
    "import numpy as np"
   ]
  },
  {
   "cell_type": "code",
   "execution_count": 2,
   "id": "7ab67744",
   "metadata": {},
   "outputs": [
    {
     "name": "stdout",
     "output_type": "stream",
     "text": [
      "(a) 3x3 matrix with values 2 to 10:\n",
      " [[ 2  3  4]\n",
      " [ 5  6  7]\n",
      " [ 8  9 10]] \n",
      "\n"
     ]
    }
   ],
   "source": [
    "# (a) Create a 3x3 matrix with values ranging from 2 to 10\n",
    "a = np.arange(2, 11).reshape(3, 3)\n",
    "print(\"(a) 3x3 matrix with values 2 to 10:\\n\", a, \"\\n\")"
   ]
  },
  {
   "cell_type": "code",
   "execution_count": 3,
   "id": "61032e2b",
   "metadata": {},
   "outputs": [
    {
     "name": "stdout",
     "output_type": "stream",
     "text": [
      "(b) Original array: [1 2 3 4 5]\n",
      "Reversed array: [5 4 3 2 1] \n",
      "\n"
     ]
    }
   ],
   "source": [
    "# (b) Reverse an array (first element becomes last)\n",
    "b = np.array([1, 2, 3, 4, 5])\n",
    "print(\"(b) Original array:\", b)\n",
    "print(\"Reversed array:\", b[::-1], \"\\n\")"
   ]
  },
  {
   "cell_type": "code",
   "execution_count": 4,
   "id": "6ceed734",
   "metadata": {},
   "outputs": [
    {
     "name": "stdout",
     "output_type": "stream",
     "text": [
      "(c) Common values between arrays: [4 5] \n",
      "\n"
     ]
    }
   ],
   "source": [
    "# (c) Find common values between two arrays\n",
    "c1 = np.array([1, 2, 3, 4, 5])\n",
    "c2 = np.array([4, 5, 6, 7, 8])\n",
    "print(\"(c) Common values between arrays:\", np.intersect1d(c1, c2), \"\\n\")"
   ]
  },
  {
   "cell_type": "code",
   "execution_count": 5,
   "id": "5211d23e",
   "metadata": {},
   "outputs": [
    {
     "name": "stdout",
     "output_type": "stream",
     "text": [
      "(d) Repeat elements of array: [1 1 1 2 2 2 3 3 3] \n",
      "\n"
     ]
    }
   ],
   "source": [
    "# (d) Repeat array elements\n",
    "d = np.array([1, 2, 3])\n",
    "print(\"(d) Repeat elements of array:\", np.repeat(d, 3), \"\\n\")"
   ]
  },
  {
   "cell_type": "code",
   "execution_count": 6,
   "id": "b3316674",
   "metadata": {},
   "outputs": [
    {
     "name": "stdout",
     "output_type": "stream",
     "text": [
      "(e) Memory size of array (bytes): 40 \n",
      "\n"
     ]
    }
   ],
   "source": [
    "# (e) Find the memory size of a NumPy array\n",
    "e = np.array([10, 20, 30, 40, 50])\n",
    "print(\"(e) Memory size of array (bytes):\", e.size * e.itemsize, \"\\n\")"
   ]
  },
  {
   "cell_type": "code",
   "execution_count": 7,
   "id": "3e7554f7",
   "metadata": {},
   "outputs": [
    {
     "name": "stdout",
     "output_type": "stream",
     "text": [
      "(f) Array of ones:\n",
      " [[1. 1. 1.]\n",
      " [1. 1. 1.]]\n",
      "Array of zeros:\n",
      " [[0. 0. 0.]\n",
      " [0. 0. 0.]] \n",
      "\n"
     ]
    }
   ],
   "source": [
    "# (f) Create an array of ones and zeros\n",
    "f1 = np.ones((2, 3))\n",
    "f2 = np.zeros((2, 3))\n",
    "print(\"(f) Array of ones:\\n\", f1)\n",
    "print(\"Array of zeros:\\n\", f2, \"\\n\")"
   ]
  },
  {
   "cell_type": "code",
   "execution_count": 8,
   "id": "85b68af8",
   "metadata": {},
   "outputs": [
    {
     "name": "stdout",
     "output_type": "stream",
     "text": [
      "(g) The 4th element of the array: 40\n"
     ]
    }
   ],
   "source": [
    "# (g) Find the 4th element of a specified array\n",
    "g = np.array([10, 20, 30, 40, 50])\n",
    "print(\"(g) The 4th element of the array:\", g[3])"
   ]
  }
 ],
 "metadata": {
  "kernelspec": {
   "display_name": ".venv",
   "language": "python",
   "name": "python3"
  },
  "language_info": {
   "codemirror_mode": {
    "name": "ipython",
    "version": 3
   },
   "file_extension": ".py",
   "mimetype": "text/x-python",
   "name": "python",
   "nbconvert_exporter": "python",
   "pygments_lexer": "ipython3",
   "version": "3.12.4"
  }
 },
 "nbformat": 4,
 "nbformat_minor": 5
}

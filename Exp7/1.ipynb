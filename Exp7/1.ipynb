{
 "cells": [
  {
   "cell_type": "code",
   "execution_count": 2,
   "id": "17519e25",
   "metadata": {},
   "outputs": [],
   "source": [
    "import numpy as np"
   ]
  },
  {
   "cell_type": "code",
   "execution_count": null,
   "id": "94ac25ab",
   "metadata": {},
   "outputs": [],
   "source": []
  },
  {
   "cell_type": "code",
   "execution_count": 15,
   "id": "4ed810f6",
   "metadata": {},
   "outputs": [
    {
     "name": "stdout",
     "output_type": "stream",
     "text": [
      "Original 2-d array:\n",
      "[[1 0]\n",
      " [1 2]]\n",
      "Determinant of the said 2-D array:\n",
      "2.0\n"
     ]
    }
   ],
   "source": [
    "a = np.array([[1, 0],\n",
    "              [1, 2]])\n",
    "\n",
    "print(\"Original 2-d array:\")\n",
    "print(a)\n",
    "\n",
    "det = np.linalg.det(a)\n",
    "print(\"Determinant of the said 2-D array:\")\n",
    "print(det)"
   ]
  },
  {
   "cell_type": "code",
   "execution_count": 14,
   "id": "d252b980",
   "metadata": {},
   "outputs": [
    {
     "name": "stdout",
     "output_type": "stream",
     "text": [
      "Original matrices:\n",
      "p = [[1, 0], [0, 1]]\n",
      "q = [[1, 2], [3, 4]]\n",
      "Result of the matrix multiplication:\n",
      "[[1 2]\n",
      " [3 4]] \n",
      "\n"
     ]
    }
   ],
   "source": [
    "p = [[1, 0], [0, 1]]\n",
    "q = [[1, 2], [3, 4]]\n",
    "\n",
    "print(\"Original matrices:\")\n",
    "print(\"p =\", p)\n",
    "print(\"q =\", q)\n",
    "\n",
    "result1 = np.dot(p, q)\n",
    "print(\"Result of the matrix multiplication:\")\n",
    "print(result1, \"\\n\")"
   ]
  },
  {
   "cell_type": "code",
   "execution_count": 13,
   "id": "2ee363df",
   "metadata": {},
   "outputs": [
    {
     "name": "stdout",
     "output_type": "stream",
     "text": [
      "Data of array1 is: <memory at 0x000002151824DB40>\n",
      "Data of array2 is: <memory at 0x0000021536DABE00>\n"
     ]
    }
   ],
   "source": [
    "import numpy as np\n",
    "\n",
    "array1 = np.array([6, 7, 8])\n",
    "array2 = np.array([[1, 2, 3],\n",
    "                   [6, 7, 8]])\n",
    "\n",
    "print(\"Data of array1 is:\", array1.data)\n",
    "print(\"Data of array2 is:\", array2.data)\n"
   ]
  },
  {
   "cell_type": "code",
   "execution_count": 12,
   "id": "b260f16b",
   "metadata": {},
   "outputs": [
    {
     "name": "stdout",
     "output_type": "stream",
     "text": [
      "itemsize of array1: 8\n",
      "itemsize of array2: 4\n"
     ]
    }
   ],
   "source": [
    "import numpy as np\n",
    "\n",
    "array1 = np.array([6, 7, 8, 10, 13])  # default int64\n",
    "array2 = np.array([6, 7, 8, 10, 13], dtype=np.int32)  # 32-bit integers\n",
    "\n",
    "print(\"itemsize of array1:\", array1.itemsize)\n",
    "print(\"itemsize of array2:\", array2.itemsize)\n"
   ]
  },
  {
   "cell_type": "code",
   "execution_count": 11,
   "id": "aa2a3932",
   "metadata": {},
   "outputs": [
    {
     "name": "stdout",
     "output_type": "stream",
     "text": [
      "dtype: int64\n"
     ]
    }
   ],
   "source": [
    "import numpy as np\n",
    "\n",
    "array1 = np.array([6, 7, 8])\n",
    "\n",
    "print(\"dtype:\", array1.dtype)\n"
   ]
  },
  {
   "cell_type": "code",
   "execution_count": 10,
   "id": "b904ccd1",
   "metadata": {},
   "outputs": [
    {
     "name": "stdout",
     "output_type": "stream",
     "text": [
      "shape: (2, 3)\n"
     ]
    }
   ],
   "source": [
    "import numpy as np\n",
    "\n",
    "array1 = np.array([[1, 2, 3],\n",
    "                   [6, 7, 8]])\n",
    "\n",
    "print(\"shape:\", array1.shape)\n"
   ]
  },
  {
   "cell_type": "code",
   "execution_count": 9,
   "id": "d0047282",
   "metadata": {},
   "outputs": [
    {
     "name": "stdout",
     "output_type": "stream",
     "text": [
      "size: 6\n"
     ]
    }
   ],
   "source": [
    "import numpy as np\n",
    "\n",
    "array1 = np.array([[1, 2, 3],\n",
    "                   [6, 7, 8]])\n",
    "\n",
    "print(\"size:\", array1.size)\n"
   ]
  },
  {
   "cell_type": "code",
   "execution_count": 8,
   "id": "79fbddd6",
   "metadata": {},
   "outputs": [
    {
     "name": "stdout",
     "output_type": "stream",
     "text": [
      "ndim: 2\n"
     ]
    }
   ],
   "source": [
    "import numpy as np\n",
    "\n",
    "array1 = np.array([[2, 4, 6],\n",
    "                   [1, 3, 5]])\n",
    "\n",
    "print(\"ndim:\", array1.ndim)\n"
   ]
  },
  {
   "cell_type": "code",
   "execution_count": 7,
   "id": "a38d3174",
   "metadata": {},
   "outputs": [
    {
     "name": "stdout",
     "output_type": "stream",
     "text": [
      "[1 3 5 7] int64\n",
      "[1. 3. 5. 7.] float64\n"
     ]
    }
   ],
   "source": [
    "import numpy as np\n",
    "\n",
    "int_array = np.array([1, 3, 5, 7])\n",
    "float_array = int_array.astype('float')\n",
    "\n",
    "print(int_array, int_array.dtype)\n",
    "print(float_array, float_array.dtype)\n"
   ]
  },
  {
   "cell_type": "code",
   "execution_count": 6,
   "id": "051e286f",
   "metadata": {},
   "outputs": [
    {
     "name": "stdout",
     "output_type": "stream",
     "text": [
      "[1 3 7] int8\n",
      "[2 4 6] uint16\n",
      "[1.2 2.3 3.4] float32\n",
      "[1.+2.j 2.+3.j 3.+4.j] complex64\n"
     ]
    }
   ],
   "source": [
    "import numpy as np\n",
    "\n",
    "array1 = np.array([1, 3, 7], dtype='int8')\n",
    "array2 = np.array([2, 4, 6], dtype='uint16')\n",
    "array3 = np.array([1.2, 2.3, 3.4], dtype='float32')\n",
    "array4 = np.array([1+2j, 2+3j, 3+4j], dtype='complex64')\n",
    "\n",
    "print(array1, array1.dtype)\n",
    "print(array2, array2.dtype)\n",
    "print(array3, array3.dtype)\n",
    "print(array4, array4.dtype)"
   ]
  },
  {
   "cell_type": "code",
   "execution_count": 5,
   "id": "849ec1b9",
   "metadata": {},
   "outputs": [
    {
     "name": "stdout",
     "output_type": "stream",
     "text": [
      "int_array dtype: int64\n",
      "float_array dtype: float64\n",
      "complex_array dtype: complex128 \n",
      "\n"
     ]
    }
   ],
   "source": [
    "int_array = np.array([-3, -1, 0, 1])\n",
    "float_array = np.array([0.1, 0.2, 0.3])\n",
    "complex_array = np.array([1+2j, 2+3j, 3+4j])\n",
    "\n",
    "print(\"int_array dtype:\", int_array.dtype)      # prints int64\n",
    "print(\"float_array dtype:\", float_array.dtype)  # prints float64\n",
    "print(\"complex_array dtype:\", complex_array.dtype, \"\\n\")  # prints complex128"
   ]
  },
  {
   "cell_type": "code",
   "execution_count": 4,
   "metadata": {},
   "outputs": [
    {
     "name": "stdout",
     "output_type": "stream",
     "text": [
      "Array1: [2 4 6]\n",
      "Data type of array1: int64 \n",
      "\n"
     ]
    }
   ],
   "source": [
    "array1 = np.array([2, 4, 6])\n",
    "print(\"Array1:\", array1)\n",
    "print(\"Data type of array1:\", array1.dtype, \"\\n\")"
   ]
  },
  {
   "cell_type": "code",
   "execution_count": 3,
   "id": "e08dc6a7",
   "metadata": {},
   "outputs": [
    {
     "name": "stdout",
     "output_type": "stream",
     "text": [
      "numpy array:\n",
      " [[1. 1. 1.]\n",
      " [1. 1. 1.]]\n",
      "Type: <class 'numpy.ndarray'> \n",
      "\n"
     ]
    }
   ],
   "source": [
    "arr = np.ones((2, 3))\n",
    "print(\"numpy array:\\n\", arr)\n",
    "print(\"Type:\", type(arr), \"\\n\")"
   ]
  },
  {
   "cell_type": "code",
   "execution_count": 20,
   "metadata": {},
   "outputs": [
    {
     "name": "stdout",
     "output_type": "stream",
     "text": [
      "[0. 0. 0. 0.]\n"
     ]
    }
   ],
   "source": [
    "import numpy as np\n",
    "# Example 5: Create an array with zeros\n",
    "array1 = np.zeros(4)\n",
    "print(array1)"
   ]
  },
  {
   "cell_type": "code",
   "execution_count": 19,
   "id": "24406290",
   "metadata": {},
   "outputs": [
    {
     "name": "stdout",
     "output_type": "stream",
     "text": [
      "A sequential array with 5 values between 0 and 3:\n",
      " [0.   0.75 1.5  2.25 3.  ]\n"
     ]
    }
   ],
   "source": [
    "import numpy as np\n",
    "# Example 4: Create a sequence of 5 values in range 0 to 3\n",
    "arr = np.linspace(0, 3, 5)\n",
    "print(\"A sequential array with 5 values between 0 and 3:\\n\", arr)"
   ]
  },
  {
   "cell_type": "code",
   "execution_count": 18,
   "id": "df7dc2f5",
   "metadata": {},
   "outputs": [
    {
     "name": "stdout",
     "output_type": "stream",
     "text": [
      "A sequential array with steps of 3:\n",
      " [ 0  3  6  9 12 15 18]\n"
     ]
    }
   ],
   "source": [
    "import numpy as np\n",
    "# Example 3: Create a sequence of integers from 0 to 20 with steps of 3\n",
    "arr = np.arange(0, 20, 3)\n",
    "print(\"A sequential array with steps of 3:\\n\", arr)\n"
   ]
  },
  {
   "cell_type": "code",
   "execution_count": 17,
   "id": "600a4510",
   "metadata": {},
   "outputs": [
    {
     "name": "stdout",
     "output_type": "stream",
     "text": [
      "My 2D numpy array:\n",
      " [[10 20 30]\n",
      " [40 50 60]]\n"
     ]
    }
   ],
   "source": [
    "import numpy as np\n",
    "# Example 2: Create a 2D numpy array\n",
    "arr2 = np.array([[10, 20, 30], [40, 50, 60]])\n",
    "print(\"My 2D numpy array:\\n\", arr2)\n"
   ]
  },
  {
   "cell_type": "code",
   "execution_count": 16,
   "metadata": {},
   "outputs": [
    {
     "name": "stdout",
     "output_type": "stream",
     "text": [
      "My 1D array:\n",
      " [10 20 30]\n"
     ]
    }
   ],
   "source": [
    "import numpy as np\n",
    "# Example 1: Creation of 1D array\n",
    "arr1 = np.array([10, 20, 30])\n",
    "print(\"My 1D array:\\n\", arr1)"
   ]
  },
  {
   "cell_type": "code",
   "execution_count": 15,
   "id": "6200437b",
   "metadata": {},
   "outputs": [
    {
     "name": "stdout",
     "output_type": "stream",
     "text": [
      "My 1D array:\n",
      " [10 20 30]\n"
     ]
    }
   ],
   "source": [
    "import numpy as np\n",
    "# Example 1: Creation of 1D array\n",
    "arr1 = np.array([10, 20, 30])\n",
    "print(\"My 1D array:\\n\", arr1)"
   ]
  },
  {
   "cell_type": "code",
   "execution_count": 14,
   "id": "52f5a038",
   "metadata": {},
   "outputs": [
    {
     "name": "stdout",
     "output_type": "stream",
     "text": [
      "Array with 5 random numbers: [0.41578156 0.85264116 0.20725636 0.68365256 0.48879919]\n"
     ]
    }
   ],
   "source": [
    "array1 = np.random.rand(5)  \n",
    "print(\"Array with 5 random numbers:\", array1)"
   ]
  },
  {
   "cell_type": "code",
   "execution_count": 13,
   "id": "35c978f3",
   "metadata": {},
   "outputs": [
    {
     "name": "stdout",
     "output_type": "stream",
     "text": [
      "[0.69664379 0.46858735 0.83940718 0.04578124 0.77988283]\n"
     ]
    }
   ],
   "source": [
    "# generate an array of 5 random numbers\n",
    "array1 = np.random.rand(5)\n",
    "print(array1)"
   ]
  },
  {
   "cell_type": "code",
   "execution_count": 12,
   "id": "5791b719",
   "metadata": {},
   "outputs": [
    {
     "name": "stdout",
     "output_type": "stream",
     "text": [
      "Using np.arange(5): [0 1 2 3 4]\n",
      "Using np.arange(1, 9, 2): [1 3 5 7]\n"
     ]
    }
   ],
   "source": [
    "array1 = np.arange(5)\n",
    "print(\"Using np.arange(5):\", array1)\n",
    "array2 = np.arange(1, 9, 2)\n",
    "print(\"Using np.arange(1, 9, 2):\",array2)\n"
   ]
  },
  {
   "cell_type": "code",
   "execution_count": 9,
   "id": "7461cd1f",
   "metadata": {},
   "outputs": [
    {
     "name": "stdout",
     "output_type": "stream",
     "text": [
      "A sequential array with steps of 3:\n",
      " [ 0  3  6  9 12 15 18]\n"
     ]
    }
   ],
   "source": [
    "arr3 = np.arange(0, 20, 3)\n",
    "print(\"A sequential array with steps of 3:\\n\", arr3)"
   ]
  },
  {
   "cell_type": "code",
   "execution_count": 8,
   "id": "f50332bb",
   "metadata": {},
   "outputs": [
    {
     "name": "stdout",
     "output_type": "stream",
     "text": [
      "Array with zeros:\n",
      " [0. 0. 0. 0.]\n"
     ]
    }
   ],
   "source": [
    "array1 = np.zeros(4)\n",
    "print(\"Array with zeros:\\n\", array1)"
   ]
  },
  {
   "cell_type": "code",
   "execution_count": 4,
   "id": "650044b7",
   "metadata": {},
   "outputs": [
    {
     "name": "stdout",
     "output_type": "stream",
     "text": [
      "My 2D numpy array:\n",
      " [[10 20 30]\n",
      " [40 50 60]]\n"
     ]
    }
   ],
   "source": [
    "arr2 = np.array([[10, 20, 30], [40, 50, 60]])\n",
    "print(\"My 2D numpy array:\\n\", arr2)"
   ]
  },
  {
   "cell_type": "code",
   "execution_count": 3,
   "id": "3e8a7b69",
   "metadata": {},
   "outputs": [
    {
     "name": "stdout",
     "output_type": "stream",
     "text": [
      "My 1D array:\n",
      " [10 20 30 40 50]\n"
     ]
    }
   ],
   "source": [
    "arr1 = np.array([10, 20, 30, 40, 50])\n",
    "print(\"My 1D array:\\n\", arr1)"
   ]
  },
  {
   "cell_type": "code",
   "execution_count": null,
   "id": "ebfb140b",
   "metadata": {},
   "outputs": [
    {
     "name": "stdout",
     "output_type": "stream",
     "text": [
      "1\n",
      "1\n",
      "1\n",
      "1\n"
     ]
    }
   ],
   "source": [
    "import numpy as np\n",
    "\n",
    "a = np.array([1, 2, 3, 4 , 5 , 6 , 7 , 8])\n",
    "print(a.ndim(4,2))\n",
    "print(a.ndim(2,4))\n",
    "print(a.ndim(4,2))\n",
    "print(a.ndim(4,2))\n"
   ]
  },
  {
   "cell_type": "code",
   "execution_count": 6,
   "id": "12c318ca",
   "metadata": {},
   "outputs": [
    {
     "name": "stdout",
     "output_type": "stream",
     "text": [
      "0\n",
      "2\n",
      "1\n",
      "0\n"
     ]
    }
   ],
   "source": [
    "import numpy as np\n",
    "e = np.array(((((1)))))\n",
    "f = np.array([[1], [2]])\n",
    "g = np.array([1])\n",
    "h = np.array((1))\n",
    "\n",
    "print(e.ndim)\n",
    "print(f.ndim)\n",
    "print(g.ndim)\n",
    "print(h.ndim)"
   ]
  },
  {
   "cell_type": "code",
   "execution_count": 4,
   "id": "fbcef997",
   "metadata": {},
   "outputs": [
    {
     "name": "stdout",
     "output_type": "stream",
     "text": [
      "[[[[[1]]]]]\n",
      "5\n"
     ]
    }
   ],
   "source": [
    "d = np.array([[[[[1]]]]])\n",
    "print(d)\n",
    "print(d.ndim)\n"
   ]
  },
  {
   "cell_type": "code",
   "execution_count": 3,
   "id": "e8a375f8",
   "metadata": {},
   "outputs": [
    {
     "name": "stdout",
     "output_type": "stream",
     "text": [
      "[[1 2]\n",
      " [3 4]]\n"
     ]
    }
   ],
   "source": [
    "c = np.array([(1, 2), (3, 4)])\n",
    "print(c)\n"
   ]
  },
  {
   "cell_type": "code",
   "execution_count": 2,
   "id": "a35857ad",
   "metadata": {},
   "outputs": [
    {
     "name": "stdout",
     "output_type": "stream",
     "text": [
      "\n",
      "---- NumPy PRACTICAL EXPERIMENT ----\n",
      "\n",
      "My 1D array:\n",
      " [4 5 6 7] \n",
      "\n"
     ]
    }
   ],
   "source": [
    "import numpy as np\n",
    "\n",
    "\n",
    "print(\"\\n---- NumPy PRACTICAL EXPERIMENT ----\\n\")\n",
    "\n",
    "# ----------------------------------------------------------\n",
    "# Example 1: Creation of 1D array (User Input)\n",
    "# ----------------------------------------------------------\n",
    "n = int(input(\"Enter number of elements for 1D array: \"))\n",
    "arr1 = np.array([int(input(f\"Enter element {i+1}: \")) for i in range(n)])\n",
    "print(\"My 1D array:\\n\", arr1, \"\\n\")"
   ]
  }
 ],
 "metadata": {
  "kernelspec": {
   "display_name": ".venv",
   "language": "python",
   "name": "python3"
  },
  "language_info": {
   "codemirror_mode": {
    "name": "ipython",
    "version": 3
   },
   "file_extension": ".py",
   "mimetype": "text/x-python",
   "name": "python",
   "nbconvert_exporter": "python",
   "pygments_lexer": "ipython3",
   "version": "3.12.4"
  }
 },
 "nbformat": 4,
 "nbformat_minor": 5
}

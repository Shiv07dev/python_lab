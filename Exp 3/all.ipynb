{
 "cells": [
  {
   "cell_type": "code",
   "execution_count": null,
   "id": "de1f4249",
   "metadata": {},
   "outputs": [],
   "source": []
  },
  {
   "cell_type": "code",
   "execution_count": 45,
   "id": "357c9478",
   "metadata": {},
   "outputs": [
    {
     "name": "stdout",
     "output_type": "stream",
     "text": [
      "You entered: My name is shivkumar paun\n",
      "Last word: paun\n",
      "Length of last word: 4\n"
     ]
    }
   ],
   "source": [
    "sentence = input(\"Enter a sentence: \")\n",
    "print(\"You entered:\", sentence)\n",
    "words = sentence.strip().split()\n",
    "if words:\n",
    "    print(\"Last word:\", words[-1])\n",
    "    print(\"Length of last word:\", len(words[-1]))\n",
    "else:\n",
    "    print(\"No words found.\")"
   ]
  },
  {
   "cell_type": "code",
   "execution_count": 44,
   "id": "c8bc58de",
   "metadata": {},
   "outputs": [
    {
     "name": "stdout",
     "output_type": "stream",
     "text": [
      "You entered: My name is Shivkumar Paun\n",
      "Longest word: Shivkumar\n"
     ]
    }
   ],
   "source": [
    "sentence = input(\"Enter a sentence: \")\n",
    "print(\"You entered:\", sentence)\n",
    "words = sentence.split()\n",
    "longest = max(words, key=len)\n",
    "print(\"Longest word:\", longest)"
   ]
  },
  {
   "cell_type": "code",
   "execution_count": 42,
   "id": "020a8e80",
   "metadata": {},
   "outputs": [
    {
     "name": "stdout",
     "output_type": "stream",
     "text": [
      "You entered: Shivkumar Paun\n",
      "The string does not contain only digits.\n"
     ]
    }
   ],
   "source": [
    "string = input(\"Enter a string to check digits: \")\n",
    "print(\"You entered:\", string)\n",
    "if string.isdigit():\n",
    "    print(\"The string contains only digits.\")\n",
    "else:\n",
    "    print(\"The string does not contain only digits.\")\n"
   ]
  },
  {
   "cell_type": "code",
   "execution_count": 41,
   "id": "ed459d4a",
   "metadata": {},
   "outputs": [
    {
     "name": "stdout",
     "output_type": "stream",
     "text": [
      "You entered: Shiv\n",
      "It is not a palindrome.\n"
     ]
    }
   ],
   "source": [
    "string = input(\"Enter a string to check palindrome: \")\n",
    "print(\"You entered:\", string)\n",
    "if string == string[::-1]:\n",
    "    print(\"It is a palindrome.\")\n",
    "else:\n",
    "    print(\"It is not a palindrome.\")"
   ]
  },
  {
   "cell_type": "code",
   "execution_count": null,
   "id": "b430a926",
   "metadata": {},
   "outputs": [],
   "source": []
  },
  {
   "cell_type": "code",
   "execution_count": 39,
   "id": "a49dec95",
   "metadata": {},
   "outputs": [
    {
     "name": "stdout",
     "output_type": "stream",
     "text": [
      "Reversed string: vihS\n"
     ]
    }
   ],
   "source": [
    "string = input(\"Enter a string to reverse: \")\n",
    "reversed_string = string[::-1]\n",
    "print(\"Reversed string:\", reversed_string)"
   ]
  },
  {
   "cell_type": "code",
   "execution_count": 37,
   "id": "45be9212",
   "metadata": {},
   "outputs": [
    {
     "name": "stdout",
     "output_type": "stream",
     "text": [
      "This is a \n",
      " normal string example\n",
      "This is a \\n raw string example\n"
     ]
    }
   ],
   "source": [
    "# normal string with escape character\n",
    "str = \"This is a \\n normal string example\" \n",
    "print(str) \n",
    "\n",
    "# raw string that ignores escape characters\n",
    "raw_str = r\"This is a \\n raw string example\" \n",
    "print(raw_str)"
   ]
  },
  {
   "cell_type": "code",
   "execution_count": null,
   "id": "3930180d",
   "metadata": {},
   "outputs": [],
   "source": []
  },
  {
   "cell_type": "code",
   "execution_count": 36,
   "id": "151e7bbb",
   "metadata": {},
   "outputs": [
    {
     "name": "stdout",
     "output_type": "stream",
     "text": [
      "Shiv is from India\n"
     ]
    }
   ],
   "source": [
    "# string formatting using f-string\n",
    "name = input(\"Enter your name: \")\n",
    "country = input(\"Enter your country: \")\n",
    "print(f'{name} is from {country}')"
   ]
  },
  {
   "cell_type": "code",
   "execution_count": 35,
   "id": "3c519034",
   "metadata": {},
   "outputs": [
    {
     "name": "stdout",
     "output_type": "stream",
     "text": [
      "7\n"
     ]
    }
   ],
   "source": [
    "# get index of substring\n",
    "text = 'Python is fun'\n",
    "result = text.index('is')\n",
    "print(result)"
   ]
  },
  {
   "cell_type": "code",
   "execution_count": 34,
   "id": "051dc838",
   "metadata": {},
   "outputs": [
    {
     "name": "stdout",
     "output_type": "stream",
     "text": [
      "True\n"
     ]
    }
   ],
   "source": [
    "# check if string is numeric (input-based)\n",
    "pin = input(\"Enter a number to check if numeric: \")\n",
    "print(pin.isnumeric())"
   ]
  },
  {
   "cell_type": "code",
   "execution_count": 33,
   "id": "4e916f4e",
   "metadata": {},
   "outputs": [
    {
     "name": "stdout",
     "output_type": "stream",
     "text": [
      "True\n"
     ]
    }
   ],
   "source": [
    "# check string start\n",
    "message = 'Python is fun'\n",
    "print(message.startswith('Python'))"
   ]
  },
  {
   "cell_type": "code",
   "execution_count": 32,
   "id": "163ae561",
   "metadata": {},
   "outputs": [
    {
     "name": "stdout",
     "output_type": "stream",
     "text": [
      "['Python', 'is', 'fun']\n"
     ]
    }
   ],
   "source": [
    "# split string into list\n",
    "text = 'Python is fun'\n",
    "print(text.split())"
   ]
  },
  {
   "cell_type": "code",
   "execution_count": 31,
   "id": "d022d459",
   "metadata": {},
   "outputs": [
    {
     "name": "stdout",
     "output_type": "stream",
     "text": [
      "Python Programming\n"
     ]
    }
   ],
   "source": [
    "# remove trailing spaces\n",
    "title = 'Python Programming   '\n",
    "result = title.rstrip()\n",
    "print(result)"
   ]
  },
  {
   "cell_type": "code",
   "execution_count": 30,
   "id": "ee8d72eb",
   "metadata": {},
   "outputs": [
    {
     "name": "stdout",
     "output_type": "stream",
     "text": [
      "7\n"
     ]
    }
   ],
   "source": [
    "# find substring index\n",
    "message = 'Python is a fun programming language'\n",
    "print(message.find('is'))"
   ]
  },
  {
   "cell_type": "code",
   "execution_count": 29,
   "id": "27b2ff4d",
   "metadata": {},
   "outputs": [
    {
     "name": "stdout",
     "output_type": "stream",
     "text": [
      "ICT Department\n"
     ]
    }
   ],
   "source": [
    "# replace substring in string\n",
    "text = 'AI/ML Department'\n",
    "replaced_text = text.replace('AI/ML', 'ICT')\n",
    "print(replaced_text)"
   ]
  },
  {
   "cell_type": "code",
   "execution_count": 28,
   "id": "d4b22774",
   "metadata": {},
   "outputs": [
    {
     "name": "stdout",
     "output_type": "stream",
     "text": [
      "my name is shiv\n"
     ]
    }
   ],
   "source": [
    "# convert string to lowercase\n",
    "message = 'MY NAME IS SHIV'\n",
    "print(message.lower())"
   ]
  },
  {
   "cell_type": "code",
   "execution_count": 27,
   "id": "f2c013bf",
   "metadata": {},
   "outputs": [
    {
     "name": "stdout",
     "output_type": "stream",
     "text": [
      "MY NAME IS SHIV\n"
     ]
    }
   ],
   "source": [
    "# convert string to uppercase\n",
    "message = 'My name is Shiv'\n",
    "print(message.upper())"
   ]
  },
  {
   "cell_type": "code",
   "execution_count": 25,
   "id": "f0afd7bb",
   "metadata": {},
   "outputs": [
    {
     "name": "stdout",
     "output_type": "stream",
     "text": [
      "True\n",
      "False\n"
     ]
    }
   ],
   "source": [
    "# check substring membership\n",
    "print('a' in 'program') \n",
    "print('at' not in 'battle') "
   ]
  },
  {
   "cell_type": "code",
   "execution_count": 24,
   "id": "50658252",
   "metadata": {},
   "outputs": [
    {
     "name": "stdout",
     "output_type": "stream",
     "text": [
      "4\n"
     ]
    }
   ],
   "source": [
    "# get length of a string\n",
    "greet = 'Shiv'\n",
    "print(len(greet))"
   ]
  },
  {
   "cell_type": "code",
   "execution_count": null,
   "id": "1affd3d7",
   "metadata": {},
   "outputs": [
    {
     "name": "stdout",
     "output_type": "stream",
     "text": [
      "ICTDepartment\n"
     ]
    }
   ],
   "source": [
    "#In Python, we can join (concatenate) two or more strings using the + operator.\n",
    "greet = \"ICT\"\n",
    "name = \"Department\"\n",
    "# using + operator\n",
    "result = greet + name\n",
    "print(result)"
   ]
  },
  {
   "cell_type": "code",
   "execution_count": null,
   "id": "d55eb363",
   "metadata": {},
   "outputs": [
    {
     "name": "stdout",
     "output_type": "stream",
     "text": [
      "False\n",
      "False\n"
     ]
    }
   ],
   "source": [
    "#Compare Two Strings\n",
    "str1 = \"ICT\"\n",
    "str2 = \"Department\"\n",
    "str3 = \"3EK1\"\n",
    "# compare str1 and str2\n",
    "print(str1 == str2)\n",
    "# compare str1 and str3\n",
    "print(str1 == str3)"
   ]
  },
  {
   "cell_type": "code",
   "execution_count": 17,
   "id": "c255878c",
   "metadata": {},
   "outputs": [
    {
     "name": "stdout",
     "output_type": "stream",
     "text": [
      "ICT Department\n"
     ]
    }
   ],
   "source": [
    "message = 'ICT'\n",
    "# assign new string to message variable\n",
    "message = 'ICT Department'\n",
    "print(message)"
   ]
  },
  {
   "cell_type": "code",
   "execution_count": 16,
   "id": "d73301f9",
   "metadata": {},
   "outputs": [
    {
     "name": "stdout",
     "output_type": "stream",
     "text": [
      "ICT\n",
      "Department\n",
      "3EK1\n"
     ]
    }
   ],
   "source": [
    "# create a multiline string\n",
    "message = \"\"\"ICT\n",
    "Department\n",
    "3EK1\"\"\"\n",
    "print(message)"
   ]
  },
  {
   "cell_type": "code",
   "execution_count": 7,
   "id": "4b70a0a0",
   "metadata": {},
   "outputs": [
    {
     "name": "stdout",
     "output_type": "stream",
     "text": [
      "ICT Department\n"
     ]
    }
   ],
   "source": [
    "# demonstrate string immutability and reassignment\n",
    "message = 'ICT'\n",
    "message = 'ICT Department'\n",
    "print(message)"
   ]
  },
  {
   "cell_type": "code",
   "execution_count": 6,
   "id": "11e53ad9",
   "metadata": {},
   "outputs": [
    {
     "name": "stdout",
     "output_type": "stream",
     "text": [
      "T Department\n"
     ]
    }
   ],
   "source": [
    "# slicing from index 2 to end\n",
    "string4 = 'ICT Department'\n",
    "print(string4[2:])"
   ]
  },
  {
   "cell_type": "code",
   "execution_count": 5,
   "id": "ec2a9888",
   "metadata": {},
   "outputs": [
    {
     "name": "stdout",
     "output_type": "stream",
     "text": [
      "IC\n"
     ]
    }
   ],
   "source": [
    "# slicing from start to index 1\n",
    "string4 = 'ICT Department'\n",
    "print(string4[:2])\n"
   ]
  },
  {
   "cell_type": "code",
   "execution_count": 4,
   "id": "c3912554",
   "metadata": {},
   "outputs": [
    {
     "name": "stdout",
     "output_type": "stream",
     "text": [
      "CT \n"
     ]
    }
   ],
   "source": [
    "# slicing string from index 1 to 3\n",
    "string4 = 'ICT Department'\n",
    "print(string4[1:4])"
   ]
  },
  {
   "cell_type": "code",
   "execution_count": 3,
   "id": "42665c13",
   "metadata": {},
   "outputs": [
    {
     "name": "stdout",
     "output_type": "stream",
     "text": [
      "m\n"
     ]
    }
   ],
   "source": [
    "# access string character using negative index\n",
    "string3 = 'ICT Department'\n",
    "print(string3[-4])"
   ]
  },
  {
   "cell_type": "code",
   "execution_count": 2,
   "id": "833e32dd",
   "metadata": {},
   "outputs": [
    {
     "name": "stdout",
     "output_type": "stream",
     "text": [
      "E\n"
     ]
    }
   ],
   "source": [
    "# access string character by index\n",
    "string2 = '3EK1'\n",
    "print(string2[1])"
   ]
  },
  {
   "cell_type": "code",
   "execution_count": 1,
   "id": "483c07bc",
   "metadata": {},
   "outputs": [
    {
     "name": "stdout",
     "output_type": "stream",
     "text": [
      "ICT Department\n",
      " ICT Department \n"
     ]
    }
   ],
   "source": [
    "string1 = \"ICT Department\"\n",
    "print(string1)\n",
    "\n",
    "# create a string using single quotes\n",
    "string1 = ' ICT Department '\n",
    "print(string1)"
   ]
  }
 ],
 "metadata": {
  "kernelspec": {
   "display_name": ".venv",
   "language": "python",
   "name": "python3"
  },
  "language_info": {
   "codemirror_mode": {
    "name": "ipython",
    "version": 3
   },
   "file_extension": ".py",
   "mimetype": "text/x-python",
   "name": "python",
   "nbconvert_exporter": "python",
   "pygments_lexer": "ipython3",
   "version": "3.12.4"
  }
 },
 "nbformat": 4,
 "nbformat_minor": 5
}

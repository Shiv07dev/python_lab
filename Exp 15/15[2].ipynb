{
 "cells": [
  {
   "cell_type": "code",
   "execution_count": 1,
   "id": "3299ba40",
   "metadata": {},
   "outputs": [
    {
     "name": "stdout",
     "output_type": "stream",
     "text": [
      "Collecting sqlite-database\n",
      "  Downloading sqlite_database-0.7.7-py3-none-any.whl.metadata (4.2 kB)\n",
      "Downloading sqlite_database-0.7.7-py3-none-any.whl (38 kB)\n",
      "Installing collected packages: sqlite-database\n",
      "Successfully installed sqlite-database-0.7.7\n",
      "\n",
      "\u001b[1m[\u001b[0m\u001b[34;49mnotice\u001b[0m\u001b[1;39;49m]\u001b[0m\u001b[39;49m A new release of pip is available: \u001b[0m\u001b[31;49m25.0.1\u001b[0m\u001b[39;49m -> \u001b[0m\u001b[32;49m25.1.1\u001b[0m\n",
      "\u001b[1m[\u001b[0m\u001b[34;49mnotice\u001b[0m\u001b[1;39;49m]\u001b[0m\u001b[39;49m To update, run: \u001b[0m\u001b[32;49mpip install --upgrade pip\u001b[0m\n"
     ]
    }
   ],
   "source": [
    "!pip install sqlite-database"
   ]
  },
  {
   "cell_type": "markdown",
   "id": "1a645697",
   "metadata": {},
   "source": []
  },
  {
   "cell_type": "code",
   "execution_count": 13,
   "id": "2705ef8a",
   "metadata": {},
   "outputs": [],
   "source": [
    "import sqlite3\n",
    "conn = sqlite3.connect('data.db')\n",
    "cursor = conn.cursor()"
   ]
  },
  {
   "cell_type": "code",
   "execution_count": null,
   "id": "8de8ff8c",
   "metadata": {},
   "outputs": [],
   "source": [
    "cursor.execute('''CREATE TABLE IF NOT EXISTS student_record (\n",
    "                    Enrollment INTEGER PRIMARY KEY AUTOINCREMENT,\n",
    "                    name TEXT NOT NULL,\n",
    "                    Subject TEXT NOT NULL,\n",
    "                    Mark INTEGER NOT NULL\n",
    "                )''')\n",
    "\n",
    "conn.commit()"
   ]
  },
  {
   "cell_type": "code",
   "execution_count": 6,
   "id": "658be2fa",
   "metadata": {},
   "outputs": [],
   "source": [
    "student_record = [\n",
    "    (92301733016,'ASHUTOSH KUMAR SINGH','PWP',95),\n",
    "    (92301733017,'HARSH VISHALBHAI TRIVEDI','PWP',85),\n",
    "    (92301733027,'VIRAJ PRAKASHBHAI VAGHASIYA','PWP',90),\n",
    "    (92301733046,'SHIVAM ATULKUMAR BHATT', 'PWP',93),\n",
    "    (92301733058,'DEVENDRASINH DOLATSINH JADEJA','PWP',75)\n",
    "]\n",
    "\n",
    "cursor.executemany('''INSERT INTO student_record (Enrollment, name, subject,Mark) \n",
    "                      VALUES (?, ?, ?,?)''', student_record)\n",
    "\n",
    "conn.commit()"
   ]
  },
  {
   "cell_type": "code",
   "execution_count": 7,
   "id": "5844928b",
   "metadata": {},
   "outputs": [
    {
     "name": "stdout",
     "output_type": "stream",
     "text": [
      "All Student Records:\n",
      "(92301733016, 'ASHUTOSH KUMAR SINGH', 'PWP', 95)\n",
      "(92301733017, 'HARSH VISHALBHAI TRIVEDI', 'PWP', 85)\n",
      "(92301733027, 'VIRAJ PRAKASHBHAI VAGHASIYA', 'PWP', 90)\n",
      "(92301733046, 'SHIVAM ATULKUMAR BHATT', 'PWP', 93)\n",
      "(92301733058, 'DEVENDRASINH DOLATSINH JADEJA', 'PWP', 75)\n"
     ]
    }
   ],
   "source": [
    "cursor.execute('SELECT * FROM student_record')\n",
    "rows = cursor.fetchall()\n",
    "\n",
    "print(\"All Student Records:\")\n",
    "for row in rows:\n",
    "    print(row)"
   ]
  },
  {
   "cell_type": "code",
   "execution_count": 8,
   "id": "4fa9ae88",
   "metadata": {},
   "outputs": [
    {
     "name": "stdout",
     "output_type": "stream",
     "text": [
      "\n",
      "Students with Marks greater than 90:\n",
      "('ASHUTOSH KUMAR SINGH', 'PWP', 95)\n",
      "('SHIVAM ATULKUMAR BHATT', 'PWP', 93)\n"
     ]
    }
   ],
   "source": [
    "cursor.execute('SELECT name, subject, Mark FROM student_record WHERE Mark > 90')\n",
    "high_marks = cursor.fetchall()\n",
    "\n",
    "print(\"\\nStudents with Marks greater than 90:\")\n",
    "for student in high_marks:\n",
    "    print(student)"
   ]
  },
  {
   "cell_type": "code",
   "execution_count": 9,
   "id": "e3f6536b",
   "metadata": {},
   "outputs": [
    {
     "name": "stdout",
     "output_type": "stream",
     "text": [
      "\n",
      "Updated Mark for ASHUTOSH KUMAR SINGH: 98\n"
     ]
    }
   ],
   "source": [
    "cursor.execute('''UPDATE student_record SET Mark = 98 \n",
    "                  WHERE name = 'ASHUTOSH KUMAR SINGH' AND subject = 'PWP' ''')\n",
    "\n",
    "conn.commit()\n",
    "cursor.execute('SELECT name, Mark FROM student_record WHERE name = \"ASHUTOSH KUMAR SINGH\"')\n",
    "updated_mark = cursor.fetchone()\n",
    "print(f\"\\nUpdated Mark for {updated_mark[0]}: {updated_mark[1]}\")"
   ]
  },
  {
   "cell_type": "code",
   "execution_count": 10,
   "id": "96955df1",
   "metadata": {},
   "outputs": [
    {
     "name": "stdout",
     "output_type": "stream",
     "text": [
      "\n",
      "DEVENDRASINH DOLATSINH JADEJA has been successfully deleted.\n"
     ]
    }
   ],
   "source": [
    "cursor.execute('''DELETE FROM student_record WHERE name = 'DEVENDRASINH DOLATSINH JADEJA' ''')\n",
    "\n",
    "conn.commit()\n",
    "\n",
    "cursor.execute('SELECT * FROM student_record WHERE name = \"DEVENDRASINH DOLATSINH JADEJA\"')\n",
    "deleted_name = cursor.fetchone()\n",
    "\n",
    "if deleted_name is None:\n",
    "    print(\"\\nDEVENDRASINH DOLATSINH JADEJA has been successfully deleted.\")"
   ]
  },
  {
   "cell_type": "code",
   "execution_count": 11,
   "id": "0f0e4c97",
   "metadata": {},
   "outputs": [
    {
     "name": "stdout",
     "output_type": "stream",
     "text": [
      "\n",
      "The average mark of students is: 91.50\n"
     ]
    }
   ],
   "source": [
    "cursor.execute('''SELECT AVG(Mark) FROM student_record''')\n",
    "avg_mark = cursor.fetchone()[0]\n",
    "\n",
    "print(f\"\\nThe average mark of students is: {avg_mark:.2f}\")"
   ]
  },
  {
   "cell_type": "code",
   "execution_count": 12,
   "id": "e9f090e2",
   "metadata": {},
   "outputs": [],
   "source": [
    "conn.close()"
   ]
  },
  {
   "cell_type": "code",
   "execution_count": 15,
   "id": "e7a682f7",
   "metadata": {},
   "outputs": [
    {
     "data": {
      "text/plain": [
       "<sqlite3.Cursor at 0x110442cc0>"
      ]
     },
     "execution_count": 15,
     "metadata": {},
     "output_type": "execute_result"
    }
   ],
   "source": [
    "cursor.execute('''CREATE TABLE IF NOT EXISTS student_subjects (\n",
    "                    Id INTEGER PRIMARY KEY AUTOINCREMENT,\n",
    "                    student_id INTEGER NOT NULL,\n",
    "                    name TEXT NOT NULL,\n",
    "                    Mark INTEGER NOT NULL,\n",
    "                    FOREIGN KEY (student_id) REFERENCES student_record (Enrollment)\n",
    "                )''')"
   ]
  },
  {
   "cell_type": "code",
   "execution_count": 16,
   "id": "a722a040",
   "metadata": {},
   "outputs": [],
   "source": [
    "student_subjects = [\n",
    "    (\"PWP\", 95, 92301733016),\n",
    "    (\"DSA\", 80, 92301733016),\n",
    "    (\"OS\", 85, 92301733016),\n",
    "    (\"MIS\", 90, 92301733016),\n",
    "]\n",
    "\n",
    "cursor.executemany('''INSERT INTO student_subjects (name, Mark, student_id) \n",
    "                      VALUES (?, ?, ?)''', student_subjects)\n",
    "\n",
    "conn.commit()"
   ]
  },
  {
   "cell_type": "code",
   "execution_count": 17,
   "id": "ca2b3f02",
   "metadata": {},
   "outputs": [
    {
     "name": "stdout",
     "output_type": "stream",
     "text": [
      "Subject: PWP, Mark: 95\n",
      "Subject: DSA, Mark: 80\n",
      "Subject: OS, Mark: 85\n",
      "Subject: MIS, Mark: 90\n"
     ]
    }
   ],
   "source": [
    "cursor.execute('''SELECT name, Mark FROM student_subjects \n",
    "                  WHERE student_id = 92301733016''')\n",
    "subjects = cursor.fetchall()\n",
    "\n",
    "for subject in subjects:\n",
    "    print(f\"Subject: {subject[0]}, Mark: {subject[1]}\")"
   ]
  }
 ],
 "metadata": {
  "kernelspec": {
   "display_name": ".venv",
   "language": "python",
   "name": "python3"
  },
  "language_info": {
   "codemirror_mode": {
    "name": "ipython",
    "version": 3
   },
   "file_extension": ".py",
   "mimetype": "text/x-python",
   "name": "python",
   "nbconvert_exporter": "python",
   "pygments_lexer": "ipython3",
   "version": "3.12.11"
  }
 },
 "nbformat": 4,
 "nbformat_minor": 5
}

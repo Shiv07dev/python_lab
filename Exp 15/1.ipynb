{
 "cells": [
  {
   "cell_type": "code",
   "execution_count": 11,
   "id": "4097270e",
   "metadata": {},
   "outputs": [
    {
     "name": "stdout",
     "output_type": "stream",
     "text": [
      "\n",
      "Students with Marks greater than 90:\n",
      "('ASHUTOSH KUMAR SINGH', 'PWP', 95)\n",
      "('SHIVAM ATULKUMAR BHATT', 'PWP', 93)\n"
     ]
    }
   ],
   "source": [
    "# Fetch student got more than 90\n",
    "cursor.execute('SELECT name, subject, Mark FROM student_record WHERE Mark > 90')\n",
    "high_marks = cursor.fetchall()\n",
    "\n",
    "print(\"\\nStudents with Marks greater than 90:\")\n",
    "for student in high_marks:\n",
    "    print(student)"
   ]
  },
  {
   "cell_type": "code",
   "execution_count": 10,
   "id": "1a9a0624",
   "metadata": {},
   "outputs": [
    {
     "name": "stdout",
     "output_type": "stream",
     "text": [
      "All Student Records:\n",
      "(92301733016, 'ASHUTOSH KUMAR SINGH', 'PWP', 95)\n",
      "(92301733017, 'HARSH VISHALBHAI TRIVEDI', 'PWP', 85)\n",
      "(92301733027, 'VIRAJ PRAKASHBHAI VAGHASIYA', 'PWP', 90)\n",
      "(92301733046, 'SHIVAM ATULKUMAR BHATT', 'PWP', 93)\n",
      "(92301733058, 'DEVENDRASINH DOLATSINH JADEJA', 'PWP', 75)\n"
     ]
    }
   ],
   "source": [
    "# Fetch all student records\n",
    "cursor.execute('SELECT * FROM student_record')\n",
    "rows = cursor.fetchall()\n",
    "# Display the results\n",
    "print(\"All Student Records:\")\n",
    "for row in rows:\n",
    "    print(row)"
   ]
  },
  {
   "cell_type": "code",
   "execution_count": 8,
   "id": "e9e8f7b0",
   "metadata": {},
   "outputs": [],
   "source": [
    "# Insert multiple employee records\n",
    "student_record = [\n",
    "    (92301733016,'ASHUTOSH KUMAR SINGH','PWP',95),\n",
    "    (92301733017,'HARSH VISHALBHAI TRIVEDI','PWP',85),\n",
    "    (92301733027,'VIRAJ PRAKASHBHAI VAGHASIYA','PWP',90),\n",
    "    (92301733046,'SHIVAM ATULKUMAR BHATT', 'PWP',93),\n",
    "    (92301733058,'DEVENDRASINH DOLATSINH JADEJA','PWP',75)\n",
    "]\n",
    "# Using executemany to insert multiple records\n",
    "cursor.executemany('''INSERT INTO student_record (Enrollment, name, subject,Mark) \n",
    "                      VALUES (?, ?, ?,?)''', student_record)\n",
    "\n",
    "# Commit the changes\n",
    "conn.commit()"
   ]
  },
  {
   "cell_type": "code",
   "execution_count": 7,
   "id": "26879086",
   "metadata": {},
   "outputs": [],
   "source": [
    "# Create students table if it doesn't exist\n",
    "cursor.execute('''CREATE TABLE IF NOT EXISTS student_record (\n",
    "                    Enrollment INTEGER PRIMARY KEY AUTOINCREMENT,\n",
    "                    name TEXT NOT NULL,\n",
    "                    Subject TEXT NOT NULL,\n",
    "                    Mark INTEGER NOT NULL\n",
    "                )''')\n",
    "\n",
    "# Commit the changes\n",
    "conn.commit()"
   ]
  },
  {
   "cell_type": "code",
   "execution_count": 6,
   "id": "67889658",
   "metadata": {},
   "outputs": [],
   "source": [
    "# Create a cursor object using the cursor() method\n",
    "cursor = conn.cursor()"
   ]
  },
  {
   "cell_type": "code",
   "execution_count": 5,
   "id": "37c24e89",
   "metadata": {},
   "outputs": [],
   "source": [
    "import sqlite3\n",
    "# Connect to database (or create it)\n",
    "conn = sqlite3.connect('student_record.db')"
   ]
  }
 ],
 "metadata": {
  "kernelspec": {
   "display_name": ".venv",
   "language": "python",
   "name": "python3"
  },
  "language_info": {
   "codemirror_mode": {
    "name": "ipython",
    "version": 3
   },
   "file_extension": ".py",
   "mimetype": "text/x-python",
   "name": "python",
   "nbconvert_exporter": "python",
   "pygments_lexer": "ipython3",
   "version": "3.12.4"
  }
 },
 "nbformat": 4,
 "nbformat_minor": 5
}

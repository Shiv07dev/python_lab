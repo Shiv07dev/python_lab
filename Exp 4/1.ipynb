{
 "cells": [
  {
   "cell_type": "code",
   "execution_count": 41,
   "id": "9c28157f",
   "metadata": {},
   "outputs": [
    {
     "name": "stdout",
     "output_type": "stream",
     "text": [
      "Single integer: 1234\n"
     ]
    }
   ],
   "source": [
    "nums = [1, 2, 3, 4]\n",
    "result = int(\"\".join(map(str, nums)))\n",
    "print(\"Single integer:\", result)\n"
   ]
  },
  {
   "cell_type": "code",
   "execution_count": 40,
   "id": "47b3d6e6",
   "metadata": {},
   "outputs": [
    {
     "name": "stdout",
     "output_type": "stream",
     "text": [
      "Common items: [3, 4]\n"
     ]
    }
   ],
   "source": [
    "\n",
    "list1 = [1, 2, 3, 4]\n",
    "list2 = [3, 4, 5, 6]\n",
    "common = list(set(list1) & set(list2))\n",
    "print(\"Common items:\", common)\n"
   ]
  },
  {
   "cell_type": "code",
   "execution_count": 39,
   "id": "da1f13ec",
   "metadata": {},
   "outputs": [
    {
     "name": "stdout",
     "output_type": "stream",
     "text": [
      "Frequency of elements: {1: 2, 2: 3, 3: 1, 4: 1}\n"
     ]
    }
   ],
   "source": [
    "nums = [1, 2, 2, 3, 1, 4, 2]\n",
    "frequency = {}\n",
    "\n",
    "for num in nums:\n",
    "    frequency[num] = frequency.get(num, 0) + 1\n",
    "\n",
    "print(\"Frequency of elements:\", frequency)\n"
   ]
  },
  {
   "cell_type": "code",
   "execution_count": 38,
   "id": "3ffd5454",
   "metadata": {},
   "outputs": [
    {
     "name": "stdout",
     "output_type": "stream",
     "text": [
      "List without duplicates: [1, 2, 3, 4, 5]\n"
     ]
    }
   ],
   "source": [
    "nums = [1, 2, 2, 3, 4, 4, 5]\n",
    "unique_nums = list(set(nums))\n",
    "print(\"List without duplicates:\", unique_nums)\n"
   ]
  },
  {
   "cell_type": "code",
   "execution_count": 37,
   "id": "ddde774d",
   "metadata": {},
   "outputs": [
    {
     "name": "stdout",
     "output_type": "stream",
     "text": [
      "Largest number: 99\n"
     ]
    }
   ],
   "source": [
    "nums = [10, 25, 4, 99, 3]\n",
    "largest = max(nums)\n",
    "print(\"Largest number:\", largest)\n"
   ]
  },
  {
   "cell_type": "code",
   "execution_count": 36,
   "id": "e3ef2ce6",
   "metadata": {},
   "outputs": [
    {
     "name": "stdout",
     "output_type": "stream",
     "text": [
      "Multiplication result: 24\n"
     ]
    }
   ],
   "source": [
    "nums = [2, 3, 4]\n",
    "result = 1\n",
    "for num in nums:\n",
    "    result *= num\n",
    "print(\"Multiplication result:\", result)\n"
   ]
  },
  {
   "cell_type": "code",
   "execution_count": 35,
   "id": "55f38a9b",
   "metadata": {},
   "outputs": [
    {
     "name": "stdout",
     "output_type": "stream",
     "text": [
      "[1, 2, 3, 4, 5, 6, 7, 8]\n"
     ]
    }
   ],
   "source": [
    "# to flatten a list_of_lists by using list comprehension\n",
    "list_of_lists = [[1, 2],\n",
    "                 [3, 4],\n",
    "                 [5, 6],\n",
    "                 [7, 8]]\n",
    "# using list comprehension\n",
    "my_list = [item for List in list_of_lists for item in List]\n",
    "print(my_list)"
   ]
  },
  {
   "cell_type": "code",
   "execution_count": 34,
   "id": "10f0b0b1",
   "metadata": {},
   "outputs": [
    {
     "name": "stdout",
     "output_type": "stream",
     "text": [
      "The most common element is: a\n"
     ]
    }
   ],
   "source": [
    "# to find the most frequent element from the list\n",
    "my_list = ['a', 'a', 'a', 'b', 'c', 'd', 'd', 'e']\n",
    "most_frequent_value = max(set(my_list), key=my_list.count)\n",
    "print(\"The most common element is:\", most_frequent_value)"
   ]
  },
  {
   "cell_type": "code",
   "execution_count": 33,
   "id": "3f8997dd",
   "metadata": {},
   "outputs": [
    {
     "name": "stdout",
     "output_type": "stream",
     "text": [
      "[(5, 6), (2, 3), (90, 91), (24, 25), (10, 12)]\n"
     ]
    }
   ],
   "source": [
    "# combing lists with the help of zip() function\n",
    "my_list_1 = [5, 2, 90, 24, 10]\n",
    "my_list_2 = [6, 3, 91, 25, 12]\n",
    "\n",
    "# combined\n",
    "my_combined_list = list(zip(my_list_1, my_list_2))\n",
    "print(my_combined_list)"
   ]
  },
  {
   "cell_type": "code",
   "execution_count": 32,
   "id": "036ba623",
   "metadata": {},
   "outputs": [
    {
     "name": "stdout",
     "output_type": "stream",
     "text": [
      "['a', 'b', 'c', 'd', 'e']\n"
     ]
    }
   ],
   "source": [
    "my_list_2 = list(dict.fromkeys(my_list_2))\n",
    "print(my_list_2)"
   ]
  },
  {
   "cell_type": "code",
   "execution_count": 31,
   "id": "64bfe71e",
   "metadata": {},
   "outputs": [
    {
     "name": "stdout",
     "output_type": "stream",
     "text": [
      "[5, 2, 90, 24, 10, 34]\n"
     ]
    }
   ],
   "source": [
    "# If you have a variable named 'list' in your notebook, delete or rename it before running this cell.\n",
    "del list  # Remove the variable named 'list' if it exists\n",
    "\n",
    "my_list_1 = [5, 2, 90, 24, 10, 2, 90, 34]\n",
    "my_list_2 = ['a', 'a', 'a', 'b', 'c', 'd', 'd', 'e']\n",
    "# removing duplicates from list 1\n",
    "my_list_1 = list(dict.fromkeys(my_list_1))\n",
    "print(my_list_1)"
   ]
  },
  {
   "cell_type": "code",
   "execution_count": 27,
   "id": "d8de4015",
   "metadata": {},
   "outputs": [
    {
     "name": "stdout",
     "output_type": "stream",
     "text": [
      "[2.3, 4.445, 5.33, 1.054, 2.5]\n"
     ]
    }
   ],
   "source": [
    "List = [2.3, 4.445, 3, 5.33, 1.054, 2.5]\n",
    "List.remove(3)\n",
    "print(List)"
   ]
  },
  {
   "cell_type": "code",
   "execution_count": 26,
   "id": "df309e4b",
   "metadata": {},
   "outputs": [
    {
     "name": "stdout",
     "output_type": "stream",
     "text": [
      "[4.445, 3, 5.33, 1.054, 2.5]\n"
     ]
    }
   ],
   "source": [
    "List = [2.3, 4.445, 3, 5.33, 1.054, 2.5]\n",
    "del List[0]\n",
    "print(List)"
   ]
  },
  {
   "cell_type": "code",
   "execution_count": 25,
   "id": "3fc37cb3",
   "metadata": {},
   "outputs": [
    {
     "name": "stdout",
     "output_type": "stream",
     "text": [
      "2.3\n"
     ]
    }
   ],
   "source": [
    "List = [2.3, 4.445, 3, 5.33, 1.054, 2.5]\n",
    "print(List.pop(0))"
   ]
  },
  {
   "cell_type": "code",
   "execution_count": 24,
   "id": "5e289725",
   "metadata": {},
   "outputs": [
    {
     "name": "stdout",
     "output_type": "stream",
     "text": [
      "2.5\n"
     ]
    }
   ],
   "source": [
    "List = [2.3, 4.445, 3, 5.33, 1.054, 2.5]\n",
    "print(List.pop())"
   ]
  },
  {
   "cell_type": "code",
   "execution_count": 23,
   "id": "db5ed45e",
   "metadata": {},
   "outputs": [
    {
     "name": "stdout",
     "output_type": "stream",
     "text": [
      "[5, 4, 3, 2, 1]\n"
     ]
    }
   ],
   "source": [
    "# creating a list\n",
    "list = [1,2,3,4,5]\n",
    "#reversing the list\n",
    "list.reverse()\n",
    "#printing the list\n",
    "print(list)"
   ]
  },
  {
   "cell_type": "code",
   "execution_count": 22,
   "id": "4b6677f2",
   "metadata": {},
   "outputs": [
    {
     "name": "stdout",
     "output_type": "stream",
     "text": [
      "[5.33, 4.445, 3, 2.5, 2.3, 1.054]\n"
     ]
    }
   ],
   "source": [
    "List = [2.3, 4.445, 3, 5.33, 1.054, 2.5]\n",
    "#Reverse flag is set True\n",
    "List.sort(reverse=True) \n",
    "print(List)   "
   ]
  },
  {
   "cell_type": "code",
   "execution_count": 21,
   "id": "04c727fa",
   "metadata": {},
   "outputs": [
    {
     "name": "stdout",
     "output_type": "stream",
     "text": [
      "[1.054, 2.3, 2.5, 3, 4.445, 5.33]\n"
     ]
    }
   ],
   "source": [
    "List = [2.3,4.445,3,5.33,1.054,2.5]\n",
    "List.sort()\n",
    "print(List)"
   ]
  },
  {
   "cell_type": "code",
   "execution_count": 20,
   "id": "46bf2b7b",
   "metadata": {},
   "outputs": [
    {
     "name": "stdout",
     "output_type": "stream",
     "text": [
      "9\n"
     ]
    }
   ],
   "source": [
    "numbers = [5, 2, 8, 1, 9]\n",
    "print(max(numbers))"
   ]
  },
  {
   "cell_type": "code",
   "execution_count": 19,
   "id": "0794c202",
   "metadata": {},
   "outputs": [
    {
     "name": "stdout",
     "output_type": "stream",
     "text": [
      "1\n"
     ]
    }
   ],
   "source": [
    "numbers = [5, 2, 8, 1, 9]\n",
    "print(min(numbers))"
   ]
  },
  {
   "cell_type": "code",
   "execution_count": 18,
   "id": "0d18ff9f",
   "metadata": {},
   "outputs": [
    {
     "name": "stdout",
     "output_type": "stream",
     "text": [
      "4\n"
     ]
    }
   ],
   "source": [
    "List = [1, 2, 3, 1, 2, 1, 2, 3, 2, 1]\n",
    "print(List.index(2, 2))"
   ]
  },
  {
   "cell_type": "code",
   "execution_count": 17,
   "id": "c418ac5b",
   "metadata": {},
   "outputs": [
    {
     "name": "stdout",
     "output_type": "stream",
     "text": [
      "1\n"
     ]
    }
   ],
   "source": [
    "List = [1, 2, 3, 1, 2, 1, 2, 3, 2, 1]\n",
    "print(List.index(2))"
   ]
  },
  {
   "cell_type": "code",
   "execution_count": 16,
   "id": "4e943560",
   "metadata": {},
   "outputs": [
    {
     "name": "stdout",
     "output_type": "stream",
     "text": [
      "10\n"
     ]
    }
   ],
   "source": [
    "List = [1, 2, 3, 1, 2, 1, 2, 3, 2, 1]\n",
    "print(len(List))"
   ]
  },
  {
   "cell_type": "code",
   "execution_count": 15,
   "id": "ccf7b36d",
   "metadata": {},
   "outputs": [
    {
     "name": "stdout",
     "output_type": "stream",
     "text": [
      "4\n",
      "2\n"
     ]
    }
   ],
   "source": [
    "List = [1, 2, 3, 1, 2, 1, 2, 3, 2, 1]\n",
    "print(List.count(1))\n",
    "\n",
    "List = ['a', 'b', 'c', 'd', 'a']\n",
    "print(List.count('a'))"
   ]
  },
  {
   "cell_type": "code",
   "execution_count": 11,
   "id": "1c5313bb",
   "metadata": {},
   "outputs": [
    {
     "ename": "TypeError",
     "evalue": "unsupported operand type(s) for +: 'int' and 'str'",
     "output_type": "error",
     "traceback": [
      "\u001b[31m---------------------------------------------------------------------------\u001b[39m",
      "\u001b[31mTypeError\u001b[39m                                 Traceback (most recent call last)",
      "\u001b[36mCell\u001b[39m\u001b[36m \u001b[39m\u001b[32mIn[11]\u001b[39m\u001b[32m, line 2\u001b[39m\n\u001b[32m      1\u001b[39m List = [\u001b[33m'\u001b[39m\u001b[33mgfg\u001b[39m\u001b[33m'\u001b[39m, \u001b[33m'\u001b[39m\u001b[33mabc\u001b[39m\u001b[33m'\u001b[39m, \u001b[32m3\u001b[39m]\n\u001b[32m----> \u001b[39m\u001b[32m2\u001b[39m \u001b[38;5;28mprint\u001b[39m(\u001b[38;5;28;43msum\u001b[39;49m\u001b[43m(\u001b[49m\u001b[43mList\u001b[49m\u001b[43m)\u001b[49m)\n",
      "\u001b[31mTypeError\u001b[39m: unsupported operand type(s) for +: 'int' and 'str'"
     ]
    }
   ],
   "source": [
    "List = ['gfg', 'abc', 3]\n",
    "print(sum(List))"
   ]
  },
  {
   "cell_type": "code",
   "execution_count": 12,
   "id": "3a777685",
   "metadata": {},
   "outputs": [
    {
     "name": "stdout",
     "output_type": "stream",
     "text": [
      "15\n",
      "15\n"
     ]
    }
   ],
   "source": [
    "List = [1, 2, 3, 4, 5]\n",
    "print(sum(List))\n",
    "\n",
    "print(sum(List))"
   ]
  },
  {
   "cell_type": "code",
   "execution_count": 7,
   "id": "ec322915",
   "metadata": {},
   "outputs": [
    {
     "name": "stdout",
     "output_type": "stream",
     "text": [
      "[1, 2, 3, 2, 3, 4, 5]\n"
     ]
    }
   ],
   "source": [
    "List1 = [1, 2, 3]\n",
    "List2 = [2, 3, 4, 5]\n",
    "# Add List2 to List1\n",
    "List1.extend(List2)\n",
    "print(List1)"
   ]
  },
  {
   "cell_type": "code",
   "execution_count": 6,
   "id": "80a412c9",
   "metadata": {},
   "outputs": [
    {
     "name": "stdout",
     "output_type": "stream",
     "text": [
      "['Mathematics', 'chemistry', 10087, 1997, 2000]\n"
     ]
    }
   ],
   "source": [
    "List = ['Mathematics', 'chemistry', 1997, 2000]\n",
    "# Insert at index 2 value 10087\n",
    "List.insert(2, 10087)\n",
    "print(List)"
   ]
  },
  {
   "cell_type": "code",
   "execution_count": 5,
   "id": "35f68329",
   "metadata": {},
   "outputs": [
    {
     "name": "stdout",
     "output_type": "stream",
     "text": [
      "['Mathematics', 'chemistry', 1997, 2000, 20544]\n"
     ]
    }
   ],
   "source": [
    "List = ['Mathematics', 'chemistry', 1997, 2000]\n",
    "List.append(20544)\n",
    "print(List)"
   ]
  },
  {
   "cell_type": "code",
   "execution_count": 4,
   "id": "5b30e535",
   "metadata": {},
   "outputs": [
    {
     "name": "stdout",
     "output_type": "stream",
     "text": [
      "[10, 8, 6, 4, 2]\n"
     ]
    }
   ],
   "source": [
    "d = list(range(10,0,-2))\n",
    "print(d)"
   ]
  },
  {
   "cell_type": "code",
   "execution_count": 3,
   "id": "70e3c23e",
   "metadata": {},
   "outputs": [
    {
     "name": "stdout",
     "output_type": "stream",
     "text": [
      "[0, 2, 4, 6, 8]\n"
     ]
    }
   ],
   "source": [
    "c = list(range(0,10,2))\n",
    "print(c)"
   ]
  },
  {
   "cell_type": "code",
   "execution_count": 1,
   "id": "b19b55dc",
   "metadata": {},
   "outputs": [
    {
     "name": "stdout",
     "output_type": "stream",
     "text": [
      "[0, 1, 2, 3, 4]\n"
     ]
    }
   ],
   "source": [
    "a = list(range(5))\n",
    "print(a)"
   ]
  },
  {
   "cell_type": "code",
   "execution_count": 2,
   "id": "95307903",
   "metadata": {},
   "outputs": [
    {
     "name": "stdout",
     "output_type": "stream",
     "text": [
      "[5, 6, 7, 8, 9]\n"
     ]
    }
   ],
   "source": [
    "b = list(range(5,10))\n",
    "print(b)"
   ]
  }
 ],
 "metadata": {
  "kernelspec": {
   "display_name": ".venv",
   "language": "python",
   "name": "python3"
  },
  "language_info": {
   "codemirror_mode": {
    "name": "ipython",
    "version": 3
   },
   "file_extension": ".py",
   "mimetype": "text/x-python",
   "name": "python",
   "nbconvert_exporter": "python",
   "pygments_lexer": "ipython3",
   "version": "3.12.4"
  }
 },
 "nbformat": 4,
 "nbformat_minor": 5
}

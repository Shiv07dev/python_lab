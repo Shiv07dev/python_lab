{
 "cells": [
  {
   "cell_type": "code",
   "execution_count": 5,
   "id": "ec760ca2",
   "metadata": {},
   "outputs": [
    {
     "name": "stdout",
     "output_type": "stream",
     "text": [
      "d:\\Degree Sem 3\\PWP\\Lab Task\\python\\Exp 13\n"
     ]
    }
   ],
   "source": [
    "import os\n",
    "print(os.getcwd())\n"
   ]
  },
  {
   "cell_type": "code",
   "execution_count": null,
   "id": "7cf7558e",
   "metadata": {},
   "outputs": [],
   "source": [
    "file1 = open(\"shivintro.txt\", \"r\")"
   ]
  },
  {
   "cell_type": "code",
   "execution_count": 4,
   "id": "3050139f",
   "metadata": {},
   "outputs": [
    {
     "name": "stdout",
     "output_type": "stream",
     "text": [
      "Iâ€™m Shivkumar Paun, currently pursuing B.Tech in Information and Communication Technology at Marwadi University through the Diploma-to-Degree (D2D) pathway.\n",
      "\n",
      "\n",
      "\n",
      "I completed my Diploma in ICT (2022â€“2025), where I built a strong foundation in programming, IoT, and app development. Along the way, I gained hands-on experience as a Flutter Developer, Frontend Developer, and IoT Intern, and also founded my own startup PrintLabs, which provides smart document printing solutions and received government funding.\n",
      "\n",
      "\n",
      "\n",
      "My key skills include Flutter, Python, JavaScript, IoT, and UI/UX design, and Iâ€™ve worked on projects like a WhatsApp Clone, Finance Tracker, and Career Coach App. I also enjoy contributing to events, volunteering, and exploring entrepreneurship.\n",
      "\n",
      "\n",
      "\n",
      "Going forward in my B.Tech journey, Iâ€™m excited to learn advanced technologies, collaborate on impactful projects, and prepare for research, innovation, and industry opportunities.\n"
     ]
    }
   ],
   "source": [
    "file1 = open(\"shivintro.txt\", \"r\")\n",
    "for each in file1:\n",
    "    print (each)"
   ]
  },
  {
   "cell_type": "code",
   "execution_count": 3,
   "id": "0a61eee3",
   "metadata": {},
   "outputs": [
    {
     "name": "stdout",
     "output_type": "stream",
     "text": [
      "Iâ€™m Shivkumar Paun, currently pursuing B.Tech in Information and Communication Technology at Marwadi University through the Diploma-to-Degree (D2D) pathway.\n",
      "\n",
      "I completed my Diploma in ICT (2022â€“2025), where I built a strong foundation in programming, IoT, and app development. Along the way, I gained hands-on experience as a Flutter Developer, Frontend Developer, and IoT Intern, and also founded my own startup PrintLabs, which provides smart document printing solutions and received government funding.\n",
      "\n",
      "My key skills include Flutter, Python, JavaScript, IoT, and UI/UX design, and Iâ€™ve worked on projects like a WhatsApp Clone, Finance Tracker, and Career Coach App. I also enjoy contributing to events, volunteering, and exploring entrepreneurship.\n",
      "\n",
      "Going forward in my B.Tech journey, Iâ€™m excited to learn advanced technologies, collaborate on impactful projects, and prepare for research, innovation, and industry opportunities.\n"
     ]
    }
   ],
   "source": [
    "f1 = open(\"shivintro.txt\", \"r\")\n",
    "print(f1.read())"
   ]
  },
  {
   "cell_type": "code",
   "execution_count": 7,
   "id": "06fa150d",
   "metadata": {},
   "outputs": [
    {
     "name": "stdout",
     "output_type": "stream",
     "text": [
      "I am \n"
     ]
    }
   ],
   "source": [
    "file1 = open(\"shivintro.txt\", \"r\")\n",
    "print (file1.read(5))\n"
   ]
  },
  {
   "cell_type": "code",
   "execution_count": 8,
   "id": "87130516",
   "metadata": {},
   "outputs": [
    {
     "name": "stdout",
     "output_type": "stream",
     "text": [
      "['I', 'am', 'Shivkumar', 'Paun,', 'currently', 'pursuing', 'B.Tech', 'in', 'Information', 'and', 'Communication', 'Technology', 'at', 'Marwadi', 'University', 'through', 'the', 'Diploma-to-Degree', '(D2D)', 'pathway.']\n",
      "[]\n",
      "['I', 'completed', 'my', 'Diploma', 'in', 'ICT', '(2022â€“2025),', 'where', 'I', 'built', 'a', 'strong', 'foundation', 'in', 'programming,', 'IoT,', 'and', 'app', 'development.', 'Along', 'the', 'way,', 'I', 'gained', 'hands-on', 'experience', 'as', 'a', 'Flutter', 'Developer,', 'Frontend', 'Developer,', 'and', 'IoT', 'Intern,', 'and', 'also', 'founded', 'my', 'own', 'startup', 'PrintLabs,', 'which', 'provides', 'smart', 'document', 'printing', 'solutions', 'and', 'received', 'government', 'funding.']\n",
      "[]\n",
      "['My', 'key', 'skills', 'include', 'Flutter,', 'Python,', 'JavaScript,', 'IoT,', 'and', 'UI/UX', 'design,', 'and', 'Iâ€™ve', 'worked', 'on', 'projects', 'like', 'a', 'WhatsApp', 'Clone,', 'Finance', 'Tracker,', 'and', 'Career', 'Coach', 'App.', 'I', 'also', 'enjoy', 'contributing', 'to', 'events,', 'volunteering,', 'and', 'exploring', 'entrepreneurship.']\n",
      "[]\n",
      "['Going', 'forward', 'in', 'my', 'B.Tech', 'journey,', 'Iâ€™m', 'excited', 'to', 'learn', 'advanced', 'technologies,', 'collaborate', 'on', 'impactful', 'projects,', 'and', 'prepare', 'for', 'research,', 'innovation,', 'and', 'industry', 'opportunities.']\n"
     ]
    }
   ],
   "source": [
    "with open(r\"shivintro.txt\", 'r') as file:\n",
    "    data = file.readlines()\n",
    "    for line in data:\n",
    "        word = line.split()\n",
    "        print(word)"
   ]
  },
  {
   "cell_type": "code",
   "execution_count": 1,
   "id": "9cbaa8f1",
   "metadata": {},
   "outputs": [],
   "source": [
    "# Writing intro content into a file\n",
    "\n",
    "file = open(\"shivintro.txt\", 'a')\n",
    "\n",
    "file.write(\"I am Shivkumar Paun, currently pursuing B.Tech in Information and Communication Technology at Marwadi University through the Diploma-to-Degree (D2D) pathway.\\n\")\n",
    "file.write(\"I completed my Diploma in ICT (2022–2025), where I built a strong foundation in programming, IoT, and app development. Along the way, I gained hands-on experience as a Flutter Developer, Frontend Developer, and IoT Intern, and also founded my own startup PrintLabs, which provides smart document printing solutions and received government funding.\\n\")\n",
    "file.write(\"My key skills include Flutter, Python, JavaScript, IoT, and UI/UX design, and I’ve worked on projects like a WhatsApp Clone, Finance Tracker, and Career Coach App. I also enjoy contributing to events, volunteering, and exploring entrepreneurship.\\n\")\n",
    "file.write(\"Going forward in my B.Tech journey, I’m excited to learn advanced technologies, collaborate on impactful projects, and prepare for research, innovation, and industry opportunities.\\n\")\n",
    "file.close()"
   ]
  },
  {
   "cell_type": "code",
   "execution_count": null,
   "id": "76b0b2ec",
   "metadata": {},
   "outputs": [],
   "source": [
    "with open(\"file.txt\", \"w\") as f:\n",
    "    f.write(\"Hello  Mitesh sir from Shivkumar Paun\")"
   ]
  },
  {
   "cell_type": "code",
   "execution_count": 6,
   "id": "8533ee3e",
   "metadata": {},
   "outputs": [],
   "source": [
    "file = open(\"ict1.txt\",'a')\n",
    "file.write(\"\\n Department Department\")\n",
    "file.close()"
   ]
  },
  {
   "cell_type": "code",
   "execution_count": 7,
   "id": "acfcd005",
   "metadata": {},
   "outputs": [],
   "source": [
    "file = open(\"ict1.txt\",'a')\n",
    "file.write(\"\\n Department : ICT \\n Name: Shivkumar Paun\")\n",
    "file.close()"
   ]
  },
  {
   "cell_type": "code",
   "execution_count": 17,
   "id": "ab062cfa",
   "metadata": {},
   "outputs": [],
   "source": [
    "with open(r'ict1.txt', 'rb') as file:\n",
    "    binary_data = file.read()"
   ]
  },
  {
   "cell_type": "code",
   "execution_count": 15,
   "id": "98470314",
   "metadata": {},
   "outputs": [],
   "source": [
    "with open('c.tif', 'wb') as f:\n",
    "    f.write(binary_data)\n",
    "    f.close()"
   ]
  },
  {
   "cell_type": "code",
   "execution_count": 19,
   "id": "3bf56dbd",
   "metadata": {},
   "outputs": [
    {
     "name": "stdout",
     "output_type": "stream",
     "text": [
      "CSV file created successfully!\n"
     ]
    }
   ],
   "source": [
    "import csv\n",
    "\n",
    "# Data to write in CSV\n",
    "data = [\n",
    "    [\"ID\", \"Name\", \"Age\", \"City\"],\n",
    "    [1, \"Shivkumar Paun\", 20, \"Rajkot\"],\n",
    "    [2, \"John Doe\", 25, \"New York\"],\n",
    "    [3, \"Alice Smith\", 22, \"London\"]\n",
    "]\n",
    "\n",
    "# Create CSV file\n",
    "with open(\"people.csv\", \"w\", newline=\"\") as file:\n",
    "    writer = csv.writer(file)\n",
    "    writer.writerows(data)\n",
    "\n",
    "print(\"CSV file created successfully!\")\n"
   ]
  },
  {
   "cell_type": "code",
   "execution_count": 20,
   "id": "02435ed8",
   "metadata": {},
   "outputs": [
    {
     "name": "stdout",
     "output_type": "stream",
     "text": [
      "['ID', 'Name', 'Age', 'City']\n",
      "['1', 'Shivkumar Paun', '20', 'Rajkot']\n",
      "['2', 'John Doe', '25', 'New York']\n",
      "['3', 'Alice Smith', '22', 'London']\n"
     ]
    }
   ],
   "source": [
    "import csv\n",
    "\n",
    "with open('people.csv', 'r') as file:\n",
    "    reader = csv.reader(file)\n",
    "    for row in reader:\n",
    "        print(row)"
   ]
  },
  {
   "cell_type": "code",
   "execution_count": 21,
   "id": "049b0ff9",
   "metadata": {},
   "outputs": [],
   "source": [
    "import csv\n",
    "\n",
    "with open('output.csv', 'w', newline='') as file:\n",
    "    writer = csv.writer(file)\n",
    "    writer.writerow(['Name', 'Subject', 'Mark'])\n",
    "    writer.writerow(['Dhruv', 'PWP', 9])\n",
    "    writer.writerow(['Meet', 'PWP', 10])\n",
    "    writer.writerow(['Shivkumar', 'PWP', 10])\n",
    "    writer.writerow(['sneh', 'PWP', 10])"
   ]
  },
  {
   "cell_type": "code",
   "execution_count": null,
   "id": "2dc85331",
   "metadata": {},
   "outputs": [],
   "source": []
  },
  {
   "cell_type": "code",
   "execution_count": null,
   "id": "d1fc1da7",
   "metadata": {},
   "outputs": [],
   "source": []
  },
  {
   "cell_type": "code",
   "execution_count": null,
   "id": "3ed001b8",
   "metadata": {},
   "outputs": [],
   "source": []
  },
  {
   "cell_type": "code",
   "execution_count": null,
   "id": "07afae43",
   "metadata": {},
   "outputs": [],
   "source": []
  }
 ],
 "metadata": {
  "kernelspec": {
   "display_name": ".venv",
   "language": "python",
   "name": "python3"
  },
  "language_info": {
   "codemirror_mode": {
    "name": "ipython",
    "version": 3
   },
   "file_extension": ".py",
   "mimetype": "text/x-python",
   "name": "python",
   "nbconvert_exporter": "python",
   "pygments_lexer": "ipython3",
   "version": "3.12.4"
  }
 },
 "nbformat": 4,
 "nbformat_minor": 5
}

{
 "cells": [
  {
   "cell_type": "code",
   "execution_count": 3,
   "id": "1f2a7d3a",
   "metadata": {},
   "outputs": [
    {
     "name": "stderr",
     "output_type": "stream",
     "text": [
      "[WARNING] [Config      ] Older configuration version detected (0 instead of 27)\n",
      "[WARNING] [Config      ] Upgrading configuration in progress.\n",
      "[DEBUG  ] [Config      ] Upgrading from 0 to 1\n",
      "[INFO   ] [Logger      ] Record log in C:\\Users\\shivk\\.kivy\\logs\\kivy_25-07-29_0.txt\n",
      "[ERROR  ] [Core        ] option --f not a unique prefix\n"
     ]
    },
    {
     "name": "stdout",
     "output_type": "stream",
     "text": [
      "Kivy Usage: ipykernel_launcher.py [KIVY OPTION...] [-- PROGRAM OPTIONS]::\n",
      "\n",
      "            Options placed after a '-- ' separator, will not be touched by kivy,\n",
      "            and instead passed to your program.\n",
      "\n",
      "            Set KIVY_NO_ARGS=1 in your environment or before you import Kivy to\n",
      "            disable Kivy's argument parser.\n",
      "\n",
      "        -h, --help\n",
      "            Prints this help message.\n",
      "        -d, --debug\n",
      "            Shows debug log.\n",
      "        -a, --auto-fullscreen\n",
      "            Force 'auto' fullscreen mode (no resolution change).\n",
      "            Uses your display's resolution. This is most likely what you want.\n",
      "        -c, --config section:key[:value]\n",
      "            Set a custom [section] key=value in the configuration object.\n",
      "        -f, --fullscreen\n",
      "            Force running in fullscreen mode.\n",
      "        -k, --fake-fullscreen\n",
      "            Force 'fake' fullscreen mode (no window border/decoration).\n",
      "            Uses the resolution specified by width and height in your config.\n",
      "        -w, --windowed\n",
      "            Force running in a window.\n",
      "        -p, --provider id:provider[,options]\n",
      "            Add an input provider (eg: ccvtable1:tuio,192.168.0.1:3333).\n",
      "        -m mod, --module=mod\n",
      "            Activate a module (use \"list\" to get a list of available modules).\n",
      "        -r, --rotation\n",
      "            Rotate the window's contents (0, 90, 180, 270).\n",
      "        -s, --save\n",
      "            Save current Kivy configuration.\n",
      "        --size=640x480\n",
      "            Size of window geometry.\n",
      "        --dpi=96\n",
      "            Manually overload the Window DPI (for testing only.)\n",
      "    \n"
     ]
    },
    {
     "ename": "SystemExit",
     "evalue": "2",
     "output_type": "error",
     "traceback": [
      "An exception has occurred, use %tb to see the full traceback.\n",
      "\u001b[31mSystemExit\u001b[39m\u001b[31m:\u001b[39m 2\n"
     ]
    },
    {
     "name": "stderr",
     "output_type": "stream",
     "text": [
      " d:\\Degree Sem 3\\PWP\\Lab Task\\python\\.venv\\Lib\\site-packages\\IPython\\core\\interactiveshell.py:3707: UserWarning: To exit: use 'exit', 'quit', or Ctrl-D.\n",
      "   warn(\"To exit: use 'exit', 'quit', or Ctrl-D.\", stacklevel=1)\n"
     ]
    }
   ],
   "source": [
    "# Importing necessary modules from kivy\n",
    "from kivy.app import App\n",
    "from kivy.uix.button import Button\n",
    "from kivy.uix.label import Label\n",
    "from kivy.uix.boxlayout import BoxLayout\n",
    "\n",
    "# Defining the main application class\n",
    "class SimpleApp(App):\n",
    "    def build(self):\n",
    "        # Creating a layout\n",
    "        layout = BoxLayout(orientation='vertical')\n",
    "        \n",
    "        # Creating a label and adding it to the layout\n",
    "        self.label = Label(text=\"Hello, ICT Department\")\n",
    "        layout.add_widget(self.label)\n",
    "        \n",
    "        # Creating a button, binding it to the on_button_press function, and adding it to the layout\n",
    "        button = Button(text=\"Click Me!\")\n",
    "        button.bind(on_press=self.on_button_press)\n",
    "        layout.add_widget(button)\n",
    "        \n",
    "        # Returning the layout to be displayed\n",
    "        return layout\n",
    "    \n",
    "    # Function to handle button click event\n",
    "    def on_button_press(self, instance):\n",
    "        self.label.text = \"Button Clicked!\"\n",
    "\n",
    "# Running the application\n",
    "if __name__ == '__main__':\n",
    "    SimpleApp().run()"
   ]
  },
  {
   "cell_type": "code",
   "execution_count": 2,
   "id": "40487826",
   "metadata": {},
   "outputs": [
    {
     "name": "stdout",
     "output_type": "stream",
     "text": [
      "Requirement already satisfied: kivy in d:\\degree sem 3\\pwp\\lab task\\python\\.venv\\lib\\site-packages (2.3.1)\n",
      "Requirement already satisfied: Kivy-Garden>=0.1.4 in d:\\degree sem 3\\pwp\\lab task\\python\\.venv\\lib\\site-packages (from kivy) (0.1.5)\n",
      "Requirement already satisfied: docutils in d:\\degree sem 3\\pwp\\lab task\\python\\.venv\\lib\\site-packages (from kivy) (0.21.2)\n",
      "Requirement already satisfied: pygments in d:\\degree sem 3\\pwp\\lab task\\python\\.venv\\lib\\site-packages (from kivy) (2.19.2)\n",
      "Requirement already satisfied: requests in d:\\degree sem 3\\pwp\\lab task\\python\\.venv\\lib\\site-packages (from kivy) (2.32.4)\n",
      "Requirement already satisfied: filetype in d:\\degree sem 3\\pwp\\lab task\\python\\.venv\\lib\\site-packages (from kivy) (1.2.0)\n",
      "Requirement already satisfied: kivy-deps.angle~=0.4.0 in d:\\degree sem 3\\pwp\\lab task\\python\\.venv\\lib\\site-packages (from kivy) (0.4.0)\n",
      "Requirement already satisfied: kivy-deps.sdl2~=0.8.0 in d:\\degree sem 3\\pwp\\lab task\\python\\.venv\\lib\\site-packages (from kivy) (0.8.0)\n",
      "Requirement already satisfied: kivy-deps.glew~=0.3.1 in d:\\degree sem 3\\pwp\\lab task\\python\\.venv\\lib\\site-packages (from kivy) (0.3.1)\n",
      "Requirement already satisfied: pypiwin32 in d:\\degree sem 3\\pwp\\lab task\\python\\.venv\\lib\\site-packages (from kivy) (223)\n",
      "Requirement already satisfied: pywin32>=223 in d:\\degree sem 3\\pwp\\lab task\\python\\.venv\\lib\\site-packages (from pypiwin32->kivy) (311)\n",
      "Requirement already satisfied: charset_normalizer<4,>=2 in d:\\degree sem 3\\pwp\\lab task\\python\\.venv\\lib\\site-packages (from requests->kivy) (3.4.2)\n",
      "Requirement already satisfied: idna<4,>=2.5 in d:\\degree sem 3\\pwp\\lab task\\python\\.venv\\lib\\site-packages (from requests->kivy) (3.10)\n",
      "Requirement already satisfied: urllib3<3,>=1.21.1 in d:\\degree sem 3\\pwp\\lab task\\python\\.venv\\lib\\site-packages (from requests->kivy) (2.5.0)\n",
      "Requirement already satisfied: certifi>=2017.4.17 in d:\\degree sem 3\\pwp\\lab task\\python\\.venv\\lib\\site-packages (from requests->kivy) (2025.7.14)\n",
      "Note: you may need to restart the kernel to use updated packages.\n"
     ]
    }
   ],
   "source": [
    "%pip install kivy"
   ]
  }
 ],
 "metadata": {
  "kernelspec": {
   "display_name": ".venv",
   "language": "python",
   "name": "python3"
  },
  "language_info": {
   "codemirror_mode": {
    "name": "ipython",
    "version": 3
   },
   "file_extension": ".py",
   "mimetype": "text/x-python",
   "name": "python",
   "nbconvert_exporter": "python",
   "pygments_lexer": "ipython3",
   "version": "3.12.4"
  }
 },
 "nbformat": 4,
 "nbformat_minor": 5
}
